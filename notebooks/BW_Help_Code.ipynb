{
 "cells": [
  {
   "cell_type": "code",
   "execution_count": 1,
   "metadata": {
    "ExecuteTime": {
     "end_time": "2022-09-26T09:55:04.334450Z",
     "start_time": "2022-09-26T09:55:04.107463Z"
    }
   },
   "outputs": [],
   "source": [
    "import numpy as np\n",
    "from tqdm import tqdm"
   ]
  },
  {
   "cell_type": "code",
   "execution_count": 2,
   "metadata": {
    "ExecuteTime": {
     "end_time": "2022-09-26T09:55:05.348427Z",
     "start_time": "2022-09-26T09:55:04.808616Z"
    }
   },
   "outputs": [],
   "source": [
    "import pandas as pd\n",
    "notes = pd.read_csv('../data/notes-00000.tsv', sep='\\t')\n",
    "ratings = pd.read_csv('../data/ratings-00000.tsv', sep='\\t')"
   ]
  },
  {
   "cell_type": "code",
   "execution_count": 3,
   "metadata": {
    "ExecuteTime": {
     "end_time": "2022-09-26T09:55:06.570242Z",
     "start_time": "2022-09-26T09:55:06.519486Z"
    }
   },
   "outputs": [],
   "source": [
    "## Note: this code snippet's results won't match the results of Birdwatch in production, \n",
    "##   because this code snippet doesn't weight ratings by contributors' helpfulness scores.\n",
    "\n",
    "ratings['helpfulScore'] = 0\n",
    "ratings.loc[ratings['helpful']==1,'helpfulScore'] = 1\n",
    "ratings.loc[ratings['helpfulnessLevel']=='SOMEWHAT_HELPFUL','helpfulScore'] = 0.5\n",
    "ratings.loc[ratings['helpfulnessLevel']=='HELPFUL','helpfulScore'] = 1"
   ]
  },
  {
   "cell_type": "code",
   "execution_count": 4,
   "metadata": {
    "ExecuteTime": {
     "end_time": "2022-09-26T09:55:07.212876Z",
     "start_time": "2022-09-26T09:55:07.125328Z"
    }
   },
   "outputs": [],
   "source": [
    "ratingsWithNotes = notes.set_index('noteId').join(ratings.set_index('noteId'), lsuffix=\"\\_note\", rsuffix=\"\\_rating\", how='inner')\n",
    "ratingsWithNotes['numRatings'] = 1"
   ]
  },
  {
   "cell_type": "code",
   "execution_count": 5,
   "metadata": {
    "ExecuteTime": {
     "end_time": "2022-09-26T09:55:09.638088Z",
     "start_time": "2022-09-26T09:55:09.622525Z"
    }
   },
   "outputs": [],
   "source": [
    "def getScoredNotesForTweet(\n",
    "    tweetId,\n",
    "    minRatingsNeeded = 5,\n",
    "    minHelpfulnessRatioNeededHelpful = 0.84,\n",
    "    maxHelpfulnessRatioNeededNotHelpful = .29,\n",
    "    minRatingsToGetTag = 2,\n",
    "):\n",
    "    ratingsWithNotesForTweet = ratingsWithNotes[ratingsWithNotes['tweetId']==tweetId]\n",
    "    scoredNotes = ratingsWithNotesForTweet.groupby('noteId').sum()\n",
    "    if scoredNotes.empty:\n",
    "        return scoredNotes\n",
    "    scoredNotes['helpfulnessRatio'] = scoredNotes['helpfulScore']/scoredNotes['numRatings']\n",
    "\n",
    "    helpfulWhys = ['helpfulOther', 'helpfulInformative', 'helpfulClear',\n",
    "                   'helpfulGoodSources', 'helpfulEmpathetic', 'helpfulUniqueContext']\n",
    "    notHelpfulWhys = ['notHelpfulOther', 'notHelpfulOpinionSpeculationOrBias', 'notHelpfulSourcesMissingOrUnreliable',\n",
    "                      'notHelpfulMissingKeyPoints', 'notHelpfulArgumentativeOrInflammatory', 'notHelpfulIncorrect',\n",
    "                      'notHelpfulOffTopic', 'notHelpfulHardToUnderstand', 'notHelpfulSpamHarassmentOrAbuse', 'notHelpfulOutdated']\n",
    "    scoredNotes['ratingStatus'] = 'Needs More Ratings'\n",
    "    scoredNotes.loc[(scoredNotes['numRatings'] >= minRatingsNeeded) & (scoredNotes['helpfulnessRatio'] >= minHelpfulnessRatioNeededHelpful), 'ratingStatus'] = 'Currently Rated Helpful'\n",
    "    scoredNotes.loc[(scoredNotes['numRatings'] >= minRatingsNeeded) & (scoredNotes['helpfulnessRatio'] <= maxHelpfulnessRatioNeededNotHelpful), 'ratingStatus'] = 'Currently Not Rated Helpful'\n",
    "    scoredNotes['firstTag'] = np.nan\n",
    "    scoredNotes['secondTag'] = np.nan\n",
    "    def topWhys(row):\n",
    "        if row['ratingStatus']=='Currently Rated Helpful':\n",
    "            whyCounts = pd.DataFrame(row[helpfulWhys])\n",
    "        elif row['ratingStatus']=='Currently Not Rated Helpful':\n",
    "            whyCounts = pd.DataFrame(row[notHelpfulWhys])\n",
    "        else:\n",
    "            return row\n",
    "        whyCounts.columns = ['tagCounts']\n",
    "        whyCounts['tiebreakOrder'] = range(len(whyCounts))\n",
    "        whyCounts = whyCounts[whyCounts['tagCounts'] >= minRatingsToGetTag]\n",
    "        topTags = whyCounts.sort_values(by=['tagCounts','tiebreakOrder'], ascending=False)[:2]\n",
    "        if (len(topTags) < 2):\n",
    "            row['ratingStatus'] = 'Needs More Ratings'\n",
    "        else:\n",
    "            row['firstTag'] = topTags.index[0]\n",
    "            row['secondTag'] = topTags.index[1]\n",
    "        return row\n",
    "\n",
    "    scoredNotes = scoredNotes.apply(topWhys, axis=1)\n",
    "    scoredNotes = scoredNotes.join(notes[['noteId','summary']].set_index('noteId'), lsuffix=\"_note\", rsuffix=\"_rating\", how='inner')\n",
    "\n",
    "    scoredNotes['orderWithinStatus'] = 'helpfulnessRatio'\n",
    "    scoredNotes.loc[scoredNotes['ratingStatus']=='Needs More Ratings', 'orderWithinStatus'] = 'createdAtMillis_note'\n",
    "    statusOrder = {'Currently Rated Helpful':2, 'Needs More Ratings':1, 'Currently Not Rated Helpful':0}\n",
    "    scoredNotes['statusOrder'] = scoredNotes.apply(lambda x: statusOrder[x['ratingStatus']], axis=1)\n",
    "    return scoredNotes.sort_values(by=['statusOrder','orderWithinStatus'], ascending=False)\n",
    "    "
   ]
  },
  {
   "cell_type": "markdown",
   "metadata": {},
   "source": [
    "# BW Score VS CR"
   ]
  },
  {
   "cell_type": "code",
   "execution_count": 73,
   "metadata": {
    "ExecuteTime": {
     "end_time": "2022-05-12T08:20:39.176480Z",
     "start_time": "2022-05-12T08:20:39.174397Z"
    }
   },
   "outputs": [],
   "source": [
    "# for each tweet:\n",
    "#  run the scoring function\n",
    "#  get notes which do not need more labels\n",
    "#  either average or do mapping from here and majority voting (helpful >0.84, not helpful<0.29)\n",
    "#  compare  with golden label\n",
    "#"
   ]
  },
  {
   "cell_type": "code",
   "execution_count": 7,
   "metadata": {
    "ExecuteTime": {
     "end_time": "2022-09-26T09:55:25.222782Z",
     "start_time": "2022-09-26T09:55:25.175950Z"
    }
   },
   "outputs": [],
   "source": [
    "merge_corpus = pd.read_csv(\"../data/merged3_mturk.csv\")"
   ]
  },
  {
   "cell_type": "code",
   "execution_count": 8,
   "metadata": {
    "ExecuteTime": {
     "end_time": "2022-09-26T09:55:26.093042Z",
     "start_time": "2022-09-26T09:55:26.070838Z"
    }
   },
   "outputs": [
    {
     "data": {
      "text/plain": [
       "Index(['Tweet', 'credibility', 'tweetId', 'CR Fact', 'noteId', 'summary',\n",
       "       'classification', 'full_text'],\n",
       "      dtype='object')"
      ]
     },
     "execution_count": 8,
     "metadata": {},
     "output_type": "execute_result"
    }
   ],
   "source": [
    "merge_corpus.columns"
   ]
  },
  {
   "cell_type": "code",
   "execution_count": 9,
   "metadata": {
    "ExecuteTime": {
     "end_time": "2022-09-26T09:56:54.986335Z",
     "start_time": "2022-09-26T09:55:39.665278Z"
    }
   },
   "outputs": [],
   "source": [
    "BWS_CR=[]\n",
    "\n",
    "for index,row in merge_corpus.iterrows():\n",
    "    score_df = getScoredNotesForTweet(row.tweetId)\n",
    "    if score_df.empty:\n",
    "        BWS_CR.append([row.tweetId,[],None,[],row.credibility,'',''])\n",
    "    else:\n",
    "        helpful_noteids = list(score_df[score_df.apply(lambda x: True if x.statusOrder==2 else False,axis=1)].index)\n",
    "        classification_helpful_noteids = [notes[notes.noteId==x]['classification'] for x in helpful_noteids]\n",
    "        BWS_CR.append([row.tweetId,helpful_noteids,f'{len(helpful_noteids)}/{len(score_df)}',classification_helpful_noteids,row.credibility,row.full_text,row['CR Fact']])"
   ]
  },
  {
   "cell_type": "code",
   "execution_count": 10,
   "metadata": {
    "ExecuteTime": {
     "end_time": "2022-09-26T09:56:54.993702Z",
     "start_time": "2022-09-26T09:56:54.987619Z"
    }
   },
   "outputs": [],
   "source": [
    "BWS_CR = pd.DataFrame(BWS_CR,columns=['tweetId','helpfulNoteIds','PHNIds','Classification','CR Label','full_text','CR Fact'])"
   ]
  },
  {
   "cell_type": "code",
   "execution_count": 11,
   "metadata": {
    "ExecuteTime": {
     "end_time": "2022-09-26T09:56:55.123727Z",
     "start_time": "2022-09-26T09:56:54.995247Z"
    }
   },
   "outputs": [],
   "source": [
    "BWS_CR=BWS_CR[BWS_CR.apply(lambda x: True if x.helpfulNoteIds else False,axis=1)]"
   ]
  },
  {
   "cell_type": "code",
   "execution_count": 12,
   "metadata": {
    "ExecuteTime": {
     "end_time": "2022-09-26T09:57:31.255614Z",
     "start_time": "2022-09-26T09:57:31.246273Z"
    }
   },
   "outputs": [
    {
     "data": {
      "text/plain": [
       "(533, 7)"
      ]
     },
     "execution_count": 12,
     "metadata": {},
     "output_type": "execute_result"
    }
   ],
   "source": [
    "BWS_CR.shape"
   ]
  },
  {
   "cell_type": "code",
   "execution_count": 15,
   "metadata": {
    "ExecuteTime": {
     "end_time": "2022-09-26T09:57:51.450009Z",
     "start_time": "2022-09-26T09:57:51.434226Z"
    }
   },
   "outputs": [
    {
     "data": {
      "text/plain": [
       "2208"
      ]
     },
     "execution_count": 15,
     "metadata": {},
     "output_type": "execute_result"
    }
   ],
   "source": [
    "len(set(merge_corpus.tweetId))"
   ]
  },
  {
   "cell_type": "code",
   "execution_count": 16,
   "metadata": {
    "ExecuteTime": {
     "end_time": "2022-09-26T09:57:52.533762Z",
     "start_time": "2022-09-26T09:57:52.529897Z"
    }
   },
   "outputs": [],
   "source": [
    "from collections import Counter\n",
    "def find_winner(x):\n",
    "    x = Counter(x).items()\n",
    "    m = max([xx[1] for xx in x ])\n",
    "    return [xx[0] for xx in x if xx[1]==m]"
   ]
  },
  {
   "cell_type": "code",
   "execution_count": 17,
   "metadata": {
    "ExecuteTime": {
     "end_time": "2022-09-26T09:57:59.077178Z",
     "start_time": "2022-09-26T09:57:58.964929Z"
    }
   },
   "outputs": [],
   "source": [
    "BW_winner=[]\n",
    "for index,row in BWS_CR.iterrows():\n",
    "    BW_winner.append(find_winner([x.values[0] for x in row['Classification']])[0])"
   ]
  },
  {
   "cell_type": "code",
   "execution_count": 18,
   "metadata": {
    "ExecuteTime": {
     "end_time": "2022-09-26T09:58:00.088846Z",
     "start_time": "2022-09-26T09:58:00.078905Z"
    }
   },
   "outputs": [],
   "source": [
    "BWS_CR['BW_winner']=BW_winner"
   ]
  },
  {
   "cell_type": "code",
   "execution_count": 19,
   "metadata": {
    "ExecuteTime": {
     "end_time": "2022-09-26T09:58:06.661921Z",
     "start_time": "2022-09-26T09:58:06.573027Z"
    }
   },
   "outputs": [
    {
     "data": {
      "text/html": [
       "<div>\n",
       "<style scoped>\n",
       "    .dataframe tbody tr th:only-of-type {\n",
       "        vertical-align: middle;\n",
       "    }\n",
       "\n",
       "    .dataframe tbody tr th {\n",
       "        vertical-align: top;\n",
       "    }\n",
       "\n",
       "    .dataframe thead th {\n",
       "        text-align: right;\n",
       "    }\n",
       "</style>\n",
       "<table border=\"1\" class=\"dataframe\">\n",
       "  <thead>\n",
       "    <tr style=\"text-align: right;\">\n",
       "      <th>CR Label</th>\n",
       "      <th>credible</th>\n",
       "      <th>mostly_credible</th>\n",
       "      <th>not_credible</th>\n",
       "      <th>not_verifiable</th>\n",
       "      <th>uncertain</th>\n",
       "    </tr>\n",
       "    <tr>\n",
       "      <th>BW_winner</th>\n",
       "      <th></th>\n",
       "      <th></th>\n",
       "      <th></th>\n",
       "      <th></th>\n",
       "      <th></th>\n",
       "    </tr>\n",
       "  </thead>\n",
       "  <tbody>\n",
       "    <tr>\n",
       "      <th>MISINFORMED_OR_POTENTIALLY_MISLEADING</th>\n",
       "      <td>58</td>\n",
       "      <td>6</td>\n",
       "      <td>320</td>\n",
       "      <td>58</td>\n",
       "      <td>38</td>\n",
       "    </tr>\n",
       "    <tr>\n",
       "      <th>NOT_MISLEADING</th>\n",
       "      <td>8</td>\n",
       "      <td>3</td>\n",
       "      <td>39</td>\n",
       "      <td>0</td>\n",
       "      <td>3</td>\n",
       "    </tr>\n",
       "  </tbody>\n",
       "</table>\n",
       "</div>"
      ],
      "text/plain": [
       "CR Label                               credible  mostly_credible  \\\n",
       "BW_winner                                                          \n",
       "MISINFORMED_OR_POTENTIALLY_MISLEADING        58                6   \n",
       "NOT_MISLEADING                                8                3   \n",
       "\n",
       "CR Label                               not_credible  not_verifiable  uncertain  \n",
       "BW_winner                                                                       \n",
       "MISINFORMED_OR_POTENTIALLY_MISLEADING           320              58         38  \n",
       "NOT_MISLEADING                                   39               0          3  "
      ]
     },
     "execution_count": 19,
     "metadata": {},
     "output_type": "execute_result"
    }
   ],
   "source": [
    "pd.crosstab(BWS_CR['BW_winner'],BWS_CR['CR Label'])"
   ]
  },
  {
   "cell_type": "code",
   "execution_count": 22,
   "metadata": {
    "ExecuteTime": {
     "end_time": "2022-09-26T09:58:57.216953Z",
     "start_time": "2022-09-26T09:58:57.167699Z"
    }
   },
   "outputs": [
    {
     "data": {
      "text/plain": [
       "533"
      ]
     },
     "execution_count": 22,
     "metadata": {},
     "output_type": "execute_result"
    }
   ],
   "source": [
    "pd.crosstab(BWS_CR['BW_winner'],BWS_CR['CR Label']).sum().sum()"
   ]
  },
  {
   "cell_type": "code",
   "execution_count": 23,
   "metadata": {
    "ExecuteTime": {
     "end_time": "2022-09-26T09:59:00.839330Z",
     "start_time": "2022-09-26T09:59:00.834473Z"
    }
   },
   "outputs": [
    {
     "data": {
      "text/plain": [
       "0.6210131332082551"
      ]
     },
     "execution_count": 23,
     "metadata": {},
     "output_type": "execute_result"
    }
   ],
   "source": [
    "(320+8+3)/533"
   ]
  },
  {
   "cell_type": "code",
   "execution_count": 24,
   "metadata": {
    "ExecuteTime": {
     "end_time": "2022-09-26T09:59:42.762767Z",
     "start_time": "2022-09-26T09:59:42.725209Z"
    }
   },
   "outputs": [
    {
     "name": "stdout",
     "output_type": "stream",
     "text": [
      "This is extremely difficult for me to say:\n",
      "\n",
      "I once thought I truly knew Joe Biden and he helped me through pain and grief, for which I am grateful. \n",
      "\n",
      "This man on tv giving this speech, I do not recognize this man. God help our country. God help the Americans we have abandoned.\n",
      "\"['\\u201cAnd don\\u2019t forget Biden deserted you. He\\u2019s not from Pennsylvania. I guess he was born here, but he left you, folks. He left you for another state. Remember that, please. I meant to say that. This guy talks about, \\u2018I know Scranton,\\u2019 \\u2018I know\\u2019 \\u2014 well I know the places better. He left you for another state and he didn\\u2019t take care of you because he didn\\u2019t take care of your jobs. He let other countries come in and rip off America.\\u201d']\"\n",
      "\n",
      "\n",
      "\n",
      "\n",
      "\n",
      "\n",
      "\n",
      "This is extremely difficult for me to say:\n",
      "\n",
      "I once thought I truly knew Joe Biden and he helped me through pain and grief, for which I am grateful. \n",
      "\n",
      "This man on tv giving this speech, I do not recognize this man. God help our country. God help the Americans we have abandoned.\n",
      "\"['\\u201cAnd don\\u2019t forget Biden deserted you. He\\u2019s not from Pennsylvania. I guess he was born here, but he left you, folks. He left you for another state. Remember that, please. I meant to say that. This guy talks about, \\u2018I know Scranton,\\u2019 \\u2018I know\\u2019 \\u2014 well I know the places better. He left you for another state and he didn\\u2019t take care of you because he didn\\u2019t take care of your jobs. He let other countries come in and rip off America.\\u201d']\"\n",
      "\n",
      "\n",
      "\n",
      "\n",
      "\n",
      "\n",
      "\n",
      "This is extremely difficult for me to say:\n",
      "\n",
      "I once thought I truly knew Joe Biden and he helped me through pain and grief, for which I am grateful. \n",
      "\n",
      "This man on tv giving this speech, I do not recognize this man. God help our country. God help the Americans we have abandoned.\n",
      "\"['\\u201cAnd don\\u2019t forget Biden deserted you. He\\u2019s not from Pennsylvania. I guess he was born here, but he left you, folks. He left you for another state. Remember that, please. I meant to say that. This guy talks about, \\u2018I know Scranton,\\u2019 \\u2018I know\\u2019 \\u2014 well I know the places better. He left you for another state and he didn\\u2019t take care of you because he didn\\u2019t take care of your jobs. He let other countries come in and rip off America.\\u201d']\"\n",
      "\n",
      "\n",
      "\n",
      "\n",
      "\n",
      "\n",
      "\n",
      "This is extremely difficult for me to say:\n",
      "\n",
      "I once thought I truly knew Joe Biden and he helped me through pain and grief, for which I am grateful. \n",
      "\n",
      "This man on tv giving this speech, I do not recognize this man. God help our country. God help the Americans we have abandoned.\n",
      "\"['\\u201cAnd don\\u2019t forget Biden deserted you. He\\u2019s not from Pennsylvania. I guess he was born here, but he left you, folks. He left you for another state. Remember that, please. I meant to say that. This guy talks about, \\u2018I know Scranton,\\u2019 \\u2018I know\\u2019 \\u2014 well I know the places better. He left you for another state and he didn\\u2019t take care of you because he didn\\u2019t take care of your jobs. He let other countries come in and rip off America.\\u201d']\"\n",
      "\n",
      "\n",
      "\n",
      "\n",
      "\n",
      "\n",
      "\n",
      "This is extremely difficult for me to say:\n",
      "\n",
      "I once thought I truly knew Joe Biden and he helped me through pain and grief, for which I am grateful. \n",
      "\n",
      "This man on tv giving this speech, I do not recognize this man. God help our country. God help the Americans we have abandoned.\n",
      "\"['\\u201cAnd don\\u2019t forget Biden deserted you. He\\u2019s not from Pennsylvania. I guess he was born here, but he left you, folks. He left you for another state. Remember that, please. I meant to say that. This guy talks about, \\u2018I know Scranton,\\u2019 \\u2018I know\\u2019 \\u2014 well I know the places better. He left you for another state and he didn\\u2019t take care of you because he didn\\u2019t take care of your jobs. He let other countries come in and rip off America.\\u201d']\"\n",
      "\n",
      "\n",
      "\n",
      "\n",
      "\n",
      "\n",
      "\n",
      "I don't think this even matters at this point. Time magazine just came out said that a cabal of elites rigged the election\n",
      "\n",
      "I'm sorry they said they didn't rig the election they \"fortified\" it, by changing the rules and laws as well as manipulating the flow of information https://t.co/1RO1tjbifv\n",
      "\"['widespread election fraud occurred during the 2020 presidential election']\"\n",
      "\n",
      "\n",
      "\n",
      "\n",
      "\n",
      "\n",
      "\n",
      "I don't think this even matters at this point. Time magazine just came out said that a cabal of elites rigged the election\n",
      "\n",
      "I'm sorry they said they didn't rig the election they \"fortified\" it, by changing the rules and laws as well as manipulating the flow of information https://t.co/1RO1tjbifv\n",
      "\"['widespread election fraud occurred during the 2020 presidential election']\"\n",
      "\n",
      "\n",
      "\n",
      "\n",
      "\n",
      "\n",
      "\n",
      "I don't think this even matters at this point. Time magazine just came out said that a cabal of elites rigged the election\n",
      "\n",
      "I'm sorry they said they didn't rig the election they \"fortified\" it, by changing the rules and laws as well as manipulating the flow of information https://t.co/1RO1tjbifv\n",
      "\"['widespread election fraud occurred during the 2020 presidential election']\"\n",
      "\n",
      "\n",
      "\n",
      "\n",
      "\n",
      "\n",
      "\n",
      "I don't think this even matters at this point. Time magazine just came out said that a cabal of elites rigged the election\n",
      "\n",
      "I'm sorry they said they didn't rig the election they \"fortified\" it, by changing the rules and laws as well as manipulating the flow of information https://t.co/1RO1tjbifv\n",
      "\"['widespread election fraud occurred during the 2020 presidential election']\"\n",
      "\n",
      "\n",
      "\n",
      "\n",
      "\n",
      "\n",
      "\n",
      "I don't think this even matters at this point. Time magazine just came out said that a cabal of elites rigged the election\n",
      "\n",
      "I'm sorry they said they didn't rig the election they \"fortified\" it, by changing the rules and laws as well as manipulating the flow of information https://t.co/1RO1tjbifv\n",
      "\"['widespread election fraud occurred during the 2020 presidential election']\"\n",
      "\n",
      "\n",
      "\n",
      "\n",
      "\n",
      "\n",
      "\n",
      "I don't think this even matters at this point. Time magazine just came out said that a cabal of elites rigged the election\n",
      "\n",
      "I'm sorry they said they didn't rig the election they \"fortified\" it, by changing the rules and laws as well as manipulating the flow of information https://t.co/1RO1tjbifv\n",
      "\"['widespread election fraud occurred during the 2020 presidential election']\"\n",
      "\n",
      "\n",
      "\n",
      "\n",
      "\n",
      "\n",
      "\n",
      "I don't think this even matters at this point. Time magazine just came out said that a cabal of elites rigged the election\n",
      "\n",
      "I'm sorry they said they didn't rig the election they \"fortified\" it, by changing the rules and laws as well as manipulating the flow of information https://t.co/1RO1tjbifv\n",
      "\"['widespread election fraud occurred during the 2020 presidential election']\"\n",
      "\n",
      "\n",
      "\n",
      "\n",
      "\n",
      "\n",
      "\n",
      "I don't think this even matters at this point. Time magazine just came out said that a cabal of elites rigged the election\n",
      "\n",
      "I'm sorry they said they didn't rig the election they \"fortified\" it, by changing the rules and laws as well as manipulating the flow of information https://t.co/1RO1tjbifv\n",
      "\"['widespread election fraud occurred during the 2020 presidential election']\"\n",
      "\n",
      "\n",
      "\n",
      "\n",
      "\n",
      "\n",
      "\n",
      "I don't think this even matters at this point. Time magazine just came out said that a cabal of elites rigged the election\n",
      "\n",
      "I'm sorry they said they didn't rig the election they \"fortified\" it, by changing the rules and laws as well as manipulating the flow of information https://t.co/1RO1tjbifv\n",
      "\"['widespread election fraud occurred during the 2020 presidential election']\"\n",
      "\n",
      "\n",
      "\n",
      "\n",
      "\n",
      "\n",
      "\n",
      "I don't think this even matters at this point. Time magazine just came out said that a cabal of elites rigged the election\n",
      "\n",
      "I'm sorry they said they didn't rig the election they \"fortified\" it, by changing the rules and laws as well as manipulating the flow of information https://t.co/1RO1tjbifv\n",
      "\"['widespread election fraud occurred during the 2020 presidential election']\"\n",
      "\n",
      "\n",
      "\n",
      "\n",
      "\n",
      "\n",
      "\n",
      "I don't think this even matters at this point. Time magazine just came out said that a cabal of elites rigged the election\n",
      "\n",
      "I'm sorry they said they didn't rig the election they \"fortified\" it, by changing the rules and laws as well as manipulating the flow of information https://t.co/1RO1tjbifv\n",
      "\"['widespread election fraud occurred during the 2020 presidential election']\"\n",
      "\n",
      "\n",
      "\n",
      "\n",
      "\n",
      "\n",
      "\n",
      "I don't think this even matters at this point. Time magazine just came out said that a cabal of elites rigged the election\n",
      "\n",
      "I'm sorry they said they didn't rig the election they \"fortified\" it, by changing the rules and laws as well as manipulating the flow of information https://t.co/1RO1tjbifv\n",
      "\"['widespread election fraud occurred during the 2020 presidential election']\"\n",
      "\n",
      "\n",
      "\n",
      "\n",
      "\n",
      "\n",
      "\n",
      "Texas: where a virus has reproductive rights and a woman does not😵‍💫\n",
      "\"['Texas Medical Professional: Migrants Quarantined with UNKNOWN Disease, 10-Year Old Girl Found With 20 Types of Semen In Her - Big League Politics']\"\n",
      "\n",
      "\n",
      "\n",
      "\n",
      "\n",
      "\n",
      "\n",
      "Texas: where a virus has reproductive rights and a woman does not😵‍💫\n",
      "\"['Texas Medical Professional: Migrants Quarantined with UNKNOWN Disease, 10-Year Old Girl Found With 20 Types of Semen In Her - Big League Politics']\"\n",
      "\n",
      "\n",
      "\n",
      "\n",
      "\n",
      "\n",
      "\n",
      "Texas: where a virus has reproductive rights and a woman does not😵‍💫\n",
      "\"['Texas Medical Professional: Migrants Quarantined with UNKNOWN Disease, 10-Year Old Girl Found With 20 Types of Semen In Her - Big League Politics']\"\n",
      "\n",
      "\n",
      "\n",
      "\n",
      "\n",
      "\n",
      "\n",
      "Shit is about to get real:\n",
      "\n",
      "\"...Vaccination Status May Be Considered To Get ICU Beds...\"\n",
      "\"['\\u201cOne of the first nurses to receive the vaccine in AL is now dead.\\u201d']\"\n",
      "\n",
      "\n",
      "\n",
      "\n",
      "\n",
      "\n",
      "\n",
      "Shit is about to get real:\n",
      "\n",
      "\"...Vaccination Status May Be Considered To Get ICU Beds...\"\n",
      "\"['\\u201cOne of the first nurses to receive the vaccine in AL is now dead.\\u201d']\"\n",
      "\n",
      "\n",
      "\n",
      "\n",
      "\n",
      "\n",
      "\n",
      "Shit is about to get real:\n",
      "\n",
      "\"...Vaccination Status May Be Considered To Get ICU Beds...\"\n",
      "\"['\\u201cOne of the first nurses to receive the vaccine in AL is now dead.\\u201d']\"\n",
      "\n",
      "\n",
      "\n",
      "\n",
      "\n",
      "\n",
      "\n",
      "“The vaccines don’t work- look at Iceland.” Alright, let’s do it. \n",
      "\n",
      "Cases were at record highs due to Delta, however, 97% of Iceland’s vaccinated cases are MILD or have NO symptoms. In addition, the nation has NOT recorded a SINGLE COVID-19 death since May. \n",
      "\n",
      "I’m not done. 🧵\n",
      "\"['The COVID vaccine is supposed to reduce symptoms but not stop spread.']\"\n",
      "\n",
      "\n",
      "\n",
      "\n",
      "\n",
      "\n",
      "\n",
      "I have a 99.99% chance of surviving the virus, the vaccine doesn't prevent transmission.\n",
      "\n",
      "You're selfish to demand that I take a vax for which we don't even know the long term effects. I'm not worried about the \"karma\" of not getting it. https://t.co/kZUg24A2MB\n",
      "\"['The COVID vaccine is supposed to reduce symptoms but not stop spread.']\"\n",
      "\n",
      "\n",
      "\n",
      "\n",
      "\n",
      "\n",
      "\n",
      "“The risk of hospitalization (was) eight times higher” among people with only vaccine-induced immunity, compared to people with natural immunity from having had Covid, with the Delta variant predominate.\n",
      "\n",
      "https://t.co/YdhZIpJGDw\n",
      "\"['A Facebook post claims the recovery rate from COVID-19 is \\\"99.9 per cent\\\", and claims there is a choice between getting the disease and getting \\\"the vaccine with an 80 per cent adverse reaction rate\\\". It also claims the vaccine \\\"killed five people\\\" during human trials.']\"\n",
      "\n",
      "\n",
      "\n",
      "\n",
      "\n",
      "\n",
      "\n",
      "“The risk of hospitalization (was) eight times higher” among people with only vaccine-induced immunity, compared to people with natural immunity from having had Covid, with the Delta variant predominate.\n",
      "\n",
      "https://t.co/YdhZIpJGDw\n",
      "\"['A Facebook post claims the recovery rate from COVID-19 is \\\"99.9 per cent\\\", and claims there is a choice between getting the disease and getting \\\"the vaccine with an 80 per cent adverse reaction rate\\\". It also claims the vaccine \\\"killed five people\\\" during human trials.']\"\n",
      "\n",
      "\n",
      "\n",
      "\n",
      "\n",
      "\n",
      "\n",
      "“The risk of hospitalization (was) eight times higher” among people with only vaccine-induced immunity, compared to people with natural immunity from having had Covid, with the Delta variant predominate.\n",
      "\n",
      "https://t.co/YdhZIpJGDw\n",
      "\"['A Facebook post claims the recovery rate from COVID-19 is \\\"99.9 per cent\\\", and claims there is a choice between getting the disease and getting \\\"the vaccine with an 80 per cent adverse reaction rate\\\". It also claims the vaccine \\\"killed five people\\\" during human trials.']\"\n",
      "\n",
      "\n",
      "\n",
      "\n",
      "\n",
      "\n",
      "\n",
      "“The risk of hospitalization (was) eight times higher” among people with only vaccine-induced immunity, compared to people with natural immunity from having had Covid, with the Delta variant predominate.\n",
      "\n",
      "https://t.co/YdhZIpJGDw\n",
      "\"['A Facebook post claims the recovery rate from COVID-19 is \\\"99.9 per cent\\\", and claims there is a choice between getting the disease and getting \\\"the vaccine with an 80 per cent adverse reaction rate\\\". It also claims the vaccine \\\"killed five people\\\" during human trials.']\"\n",
      "\n",
      "\n",
      "\n",
      "\n",
      "\n",
      "\n",
      "\n",
      "“The risk of hospitalization (was) eight times higher” among people with only vaccine-induced immunity, compared to people with natural immunity from having had Covid, with the Delta variant predominate.\n",
      "\n",
      "https://t.co/YdhZIpJGDw\n",
      "\"['A Facebook post claims the recovery rate from COVID-19 is \\\"99.9 per cent\\\", and claims there is a choice between getting the disease and getting \\\"the vaccine with an 80 per cent adverse reaction rate\\\". It also claims the vaccine \\\"killed five people\\\" during human trials.']\"\n",
      "\n",
      "\n",
      "\n",
      "\n",
      "\n",
      "\n",
      "\n",
      "Folks, the Delta variant — a highly infectious COVID-19 strain — is spreading rapidly among young people between 12 and 20 years old in the U.K. If you’re young and haven’t gotten your shot yet, it really is time. It’s the best way to protect yourself and those you love.\n",
      "\"['Vaccine for COVID-19 is now available']\"\n",
      "\n",
      "\n",
      "\n",
      "\n",
      "\n",
      "\n",
      "\n",
      "Folks, the Delta variant — a highly infectious COVID-19 strain — is spreading rapidly among young people between 12 and 20 years old in the U.K. If you’re young and haven’t gotten your shot yet, it really is time. It’s the best way to protect yourself and those you love.\n",
      "\"['Vaccine for COVID-19 is now available']\"\n",
      "\n",
      "\n",
      "\n",
      "\n",
      "\n",
      "\n",
      "\n",
      "Folks, the Delta variant — a highly infectious COVID-19 strain — is spreading rapidly among young people between 12 and 20 years old in the U.K. If you’re young and haven’t gotten your shot yet, it really is time. It’s the best way to protect yourself and those you love.\n",
      "\"['Vaccine for COVID-19 is now available']\"\n",
      "\n",
      "\n",
      "\n",
      "\n",
      "\n",
      "\n",
      "\n",
      "Moments ago, @GovRonDeSantis let someone stand behind the Seal of Florida and say: \"The vaccine changes your RNA.\" \n",
      "\n",
      "It does not. No corrections. No shame.\n",
      "\n",
      "Facts here: https://t.co/t0eRTjOhB8) https://t.co/kxrjPMRoAC\n",
      "\"['\\u201cNow it\\u2019s official: FDA announced that vaccines are causing autism.\\u201d']\"\n",
      "\n",
      "\n",
      "\n",
      "\n",
      "\n",
      "\n",
      "\n",
      "Moments ago, @GovRonDeSantis let someone stand behind the Seal of Florida and say: \"The vaccine changes your RNA.\" \n",
      "\n",
      "It does not. No corrections. No shame.\n",
      "\n",
      "Facts here: https://t.co/t0eRTjOhB8) https://t.co/kxrjPMRoAC\n",
      "\"['\\u201cNow it\\u2019s official: FDA announced that vaccines are causing autism.\\u201d']\"\n",
      "\n",
      "\n",
      "\n",
      "\n",
      "\n",
      "\n",
      "\n",
      "@CDCgov Post-vax myocarditis was clearly above baseline at the end of May. As previously discussed, we are standing on shaky ground if we say the risk to otherwise healthy kids  from Covid-19 is higher than it is from the vaccine.  https://t.co/fSDrlLm61f\n",
      "\"[\\\"vaccines are useless and dangerous and they're hurting mankind\\\"]\"\n",
      "\n",
      "\n",
      "\n",
      "\n",
      "\n",
      "\n",
      "\n",
      "@CDCgov Post-vax myocarditis was clearly above baseline at the end of May. As previously discussed, we are standing on shaky ground if we say the risk to otherwise healthy kids  from Covid-19 is higher than it is from the vaccine.  https://t.co/fSDrlLm61f\n",
      "\"[\\\"vaccines are useless and dangerous and they're hurting mankind\\\"]\"\n",
      "\n",
      "\n",
      "\n",
      "\n",
      "\n",
      "\n",
      "\n",
      "Hillary Clinton is currently chartering flights to evacuate vulnerable families and women from Afghanistan. \n",
      "\n",
      "But you didn’t know that cause the media is too busy letting Mike Pompeo blame Biden for the deal he negotiated.\n",
      "\"['Former U.S. Secretary of State Hillary Clinton was trafficking children via the Ever Given cargo ship that got stuck in the Suez Canal in March 2021.']\"\n",
      "\n",
      "\n",
      "\n",
      "\n",
      "\n",
      "\n",
      "\n",
      "The Supreme Court has upheld vaccine mandates for over a century.\n",
      "\"['Supreme Court judges can choose which vaccine they want to get administered']\"\n",
      "\n",
      "\n",
      "\n",
      "\n",
      "\n",
      "\n",
      "\n"
     ]
    }
   ],
   "source": [
    "for index,row in BWS_CR[(BWS_CR['BW_winner']=='NOT_MISLEADING') & (BWS_CR['CR Label']=='not_credible')].iterrows():\n",
    "    print(row.full_text)\n",
    "    print(row['CR Fact'])\n",
    "    print('\\n\\n\\n\\n\\n\\n')"
   ]
  },
  {
   "cell_type": "markdown",
   "metadata": {},
   "source": [
    "# BW helpful notes "
   ]
  },
  {
   "cell_type": "code",
   "execution_count": 25,
   "metadata": {
    "ExecuteTime": {
     "end_time": "2022-09-26T09:59:45.455497Z",
     "start_time": "2022-09-26T09:59:45.435448Z"
    }
   },
   "outputs": [],
   "source": [
    "all_tweets=list(set(notes.tweetId))"
   ]
  },
  {
   "cell_type": "code",
   "execution_count": 26,
   "metadata": {
    "ExecuteTime": {
     "end_time": "2022-09-26T10:03:44.043566Z",
     "start_time": "2022-09-26T09:59:52.963053Z"
    }
   },
   "outputs": [
    {
     "name": "stderr",
     "output_type": "stream",
     "text": [
      "100%|██████████| 11871/11871 [03:51<00:00, 51.38it/s]\n"
     ]
    }
   ],
   "source": [
    "BW_helpful=[]\n",
    "n=0\n",
    "t=0\n",
    "for tid in tqdm(all_tweets):\n",
    "    score_df = getScoredNotesForTweet(tid)\n",
    "    BW_helpful.append(score_df)\n",
    "    if score_df.empty: n+=1\n",
    "    t+=len(score_df)\n"
   ]
  },
  {
   "cell_type": "code",
   "execution_count": 27,
   "metadata": {
    "ExecuteTime": {
     "end_time": "2022-09-26T10:03:52.387910Z",
     "start_time": "2022-09-26T10:03:44.045398Z"
    }
   },
   "outputs": [],
   "source": [
    "BW_helpful=pd.concat(BW_helpful)"
   ]
  },
  {
   "cell_type": "code",
   "execution_count": 28,
   "metadata": {
    "ExecuteTime": {
     "end_time": "2022-09-26T10:03:52.392517Z",
     "start_time": "2022-09-26T10:03:52.390049Z"
    }
   },
   "outputs": [],
   "source": [
    "statusOrder = {'Currently Rated Helpful':2, 'Needs More Ratings':1, 'Currently Not Rated Helpful':0}"
   ]
  },
  {
   "cell_type": "code",
   "execution_count": 29,
   "metadata": {
    "ExecuteTime": {
     "end_time": "2022-09-26T10:03:52.412727Z",
     "start_time": "2022-09-26T10:03:52.394408Z"
    }
   },
   "outputs": [
    {
     "data": {
      "text/plain": [
       "1192"
      ]
     },
     "execution_count": 29,
     "metadata": {},
     "output_type": "execute_result"
    }
   ],
   "source": [
    "len(BW_helpful[BW_helpful['statusOrder']==2])"
   ]
  },
  {
   "cell_type": "code",
   "execution_count": 30,
   "metadata": {
    "ExecuteTime": {
     "end_time": "2022-09-26T10:03:52.426816Z",
     "start_time": "2022-09-26T10:03:52.417781Z"
    }
   },
   "outputs": [
    {
     "data": {
      "text/plain": [
       "0.5226286824214956"
      ]
     },
     "execution_count": 30,
     "metadata": {},
     "output_type": "execute_result"
    }
   ],
   "source": [
    "len(BW_helpful[BW_helpful['statusOrder']==1])/len(notes)"
   ]
  },
  {
   "cell_type": "code",
   "execution_count": 31,
   "metadata": {
    "ExecuteTime": {
     "end_time": "2022-09-26T10:03:52.437510Z",
     "start_time": "2022-09-26T10:03:52.428768Z"
    }
   },
   "outputs": [
    {
     "data": {
      "text/plain": [
       "8072"
      ]
     },
     "execution_count": 31,
     "metadata": {},
     "output_type": "execute_result"
    }
   ],
   "source": [
    "len(BW_helpful[BW_helpful['statusOrder']==1])"
   ]
  },
  {
   "cell_type": "code",
   "execution_count": 32,
   "metadata": {
    "ExecuteTime": {
     "end_time": "2022-09-26T10:03:52.447729Z",
     "start_time": "2022-09-26T10:03:52.440260Z"
    }
   },
   "outputs": [
    {
     "data": {
      "text/plain": [
       "0.04797669148591777"
      ]
     },
     "execution_count": 32,
     "metadata": {},
     "output_type": "execute_result"
    }
   ],
   "source": [
    "len(BW_helpful[BW_helpful['statusOrder']==0])/len(notes)"
   ]
  },
  {
   "cell_type": "code",
   "execution_count": 33,
   "metadata": {
    "ExecuteTime": {
     "end_time": "2022-09-26T10:03:52.464083Z",
     "start_time": "2022-09-26T10:03:52.450976Z"
    }
   },
   "outputs": [
    {
     "data": {
      "text/plain": [
       "741"
      ]
     },
     "execution_count": 33,
     "metadata": {},
     "output_type": "execute_result"
    }
   ],
   "source": [
    "len(BW_helpful[BW_helpful['statusOrder']==0])"
   ]
  },
  {
   "cell_type": "code",
   "execution_count": 34,
   "metadata": {
    "ExecuteTime": {
     "end_time": "2022-09-26T10:03:52.481313Z",
     "start_time": "2022-09-26T10:03:52.467142Z"
    }
   },
   "outputs": [
    {
     "data": {
      "text/plain": [
       "0.07717707996115247"
      ]
     },
     "execution_count": 34,
     "metadata": {},
     "output_type": "execute_result"
    }
   ],
   "source": [
    "len(BW_helpful[BW_helpful['statusOrder']==2])/len(notes)"
   ]
  },
  {
   "cell_type": "code",
   "execution_count": 35,
   "metadata": {
    "ExecuteTime": {
     "end_time": "2022-09-26T10:03:52.500019Z",
     "start_time": "2022-09-26T10:03:52.484788Z"
    }
   },
   "outputs": [
    {
     "data": {
      "text/plain": [
       "1192"
      ]
     },
     "execution_count": 35,
     "metadata": {},
     "output_type": "execute_result"
    }
   ],
   "source": [
    "len(BW_helpful[BW_helpful['statusOrder']==2])"
   ]
  }
 ],
 "metadata": {
  "kernelspec": {
   "display_name": "Python 3",
   "language": "python",
   "name": "python3"
  },
  "language_info": {
   "codemirror_mode": {
    "name": "ipython",
    "version": 3
   },
   "file_extension": ".py",
   "mimetype": "text/x-python",
   "name": "python",
   "nbconvert_exporter": "python",
   "pygments_lexer": "ipython3",
   "version": "3.7.4"
  },
  "toc": {
   "base_numbering": 1,
   "nav_menu": {},
   "number_sections": true,
   "sideBar": true,
   "skip_h1_title": false,
   "title_cell": "Table of Contents",
   "title_sidebar": "Contents",
   "toc_cell": false,
   "toc_position": {},
   "toc_section_display": true,
   "toc_window_display": false
  }
 },
 "nbformat": 4,
 "nbformat_minor": 4
}
