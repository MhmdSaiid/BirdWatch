{
 "cells": [
  {
   "cell_type": "code",
   "execution_count": null,
   "metadata": {},
   "outputs": [],
   "source": [
    "KEY=\"\""
   ]
  },
  {
   "cell_type": "code",
   "execution_count": 1,
   "metadata": {
    "ExecuteTime": {
     "end_time": "2022-09-26T15:05:11.779022Z",
     "start_time": "2022-09-26T15:05:11.139350Z"
    }
   },
   "outputs": [],
   "source": [
    "import numpy as np\n",
    "import pandas as pd\n",
    "from tqdm import tqdm\n",
    "import requests\n",
    "import json\n",
    "\n",
    "notes = pd.read_csv('../data/notes-00000.tsv', sep='\\t')\n",
    "ratings = pd.read_csv('../data/ratings-00000.tsv', sep='\\t')\n",
    "\n",
    "#merge_corpus = pd.read_csv('../Labelling Task/Labelled Files/Manual/merged.csv')"
   ]
  },
  {
   "cell_type": "code",
   "execution_count": 3,
   "metadata": {
    "ExecuteTime": {
     "end_time": "2022-09-26T15:05:40.546610Z",
     "start_time": "2022-09-26T15:05:40.514797Z"
    }
   },
   "outputs": [],
   "source": [
    "merge_corpus = pd.read_csv(\"../data/merged3_mturk.csv\")"
   ]
  },
  {
   "cell_type": "markdown",
   "metadata": {},
   "source": [
    "# ClaimBuster"
   ]
  },
  {
   "cell_type": "code",
   "execution_count": 3,
   "metadata": {
    "ExecuteTime": {
     "end_time": "2022-05-15T15:57:30.001728Z",
     "start_time": "2022-05-15T15:11:16.328560Z"
    }
   },
   "outputs": [
    {
     "name": "stderr",
     "output_type": "stream",
     "text": [
      "2208it [46:13,  1.26s/it]\n"
     ]
    }
   ],
   "source": [
    "\n",
    "api_key = KEY\n",
    "all_verdict=[]\n",
    "for index,row in tqdm(merge_corpus.drop_duplicates(subset='tweetId').iterrows()):\n",
    "    input_claim = row.Tweet\n",
    "    api_endpoint = f\"https://idir.uta.edu/claimbuster/api/v2/query/fact_matcher/{input_claim}\"\n",
    "    request_headers = {\"x-api-key\": api_key}\n",
    "    api_response = requests.get(url=api_endpoint, headers=request_headers)\n",
    "\n",
    "    # Print out the JSON payload the API sent back\n",
    "    answer = api_response.json()\n",
    "    verdict=[]\n",
    "    if 'justification' in answer:\n",
    "        verdict = [x['truth_rating'] for x in api_response.json()['justification']]\n",
    "    all_verdict.append(verdict)"
   ]
  },
  {
   "cell_type": "code",
   "execution_count": 4,
   "metadata": {
    "ExecuteTime": {
     "end_time": "2022-05-15T16:16:25.131216Z",
     "start_time": "2022-05-15T16:16:25.126447Z"
    }
   },
   "outputs": [],
   "source": [
    "s = merge_corpus.drop_duplicates(subset='tweetId')"
   ]
  },
  {
   "cell_type": "code",
   "execution_count": 47,
   "metadata": {
    "ExecuteTime": {
     "end_time": "2022-05-15T16:24:37.265561Z",
     "start_time": "2022-05-15T16:24:37.259385Z"
    }
   },
   "outputs": [
    {
     "name": "stderr",
     "output_type": "stream",
     "text": [
      "/home/barbacou/.local/lib/python3.6/site-packages/ipykernel_launcher.py:1: SettingWithCopyWarning: \n",
      "A value is trying to be set on a copy of a slice from a DataFrame.\n",
      "Try using .loc[row_indexer,col_indexer] = value instead\n",
      "\n",
      "See the caveats in the documentation: https://pandas.pydata.org/pandas-docs/stable/user_guide/indexing.html#returning-a-view-versus-a-copy\n",
      "  \"\"\"Entry point for launching an IPython kernel.\n"
     ]
    }
   ],
   "source": [
    "s['CB_Output']=all_verdict"
   ]
  },
  {
   "cell_type": "code",
   "execution_count": 6,
   "metadata": {
    "ExecuteTime": {
     "end_time": "2022-05-15T16:16:27.169050Z",
     "start_time": "2022-05-15T16:16:27.159182Z"
    }
   },
   "outputs": [
    {
     "data": {
      "text/plain": [
       "2208"
      ]
     },
     "execution_count": 6,
     "metadata": {},
     "output_type": "execute_result"
    }
   ],
   "source": [
    "len(set(s.tweetId))"
   ]
  },
  {
   "cell_type": "code",
   "execution_count": 7,
   "metadata": {
    "ExecuteTime": {
     "end_time": "2022-05-15T16:16:32.305939Z",
     "start_time": "2022-05-15T16:16:32.302166Z"
    }
   },
   "outputs": [
    {
     "data": {
      "text/plain": [
       "2090"
      ]
     },
     "execution_count": 7,
     "metadata": {},
     "output_type": "execute_result"
    }
   ],
   "source": [
    "len([x for x in all_verdict if not x ])"
   ]
  },
  {
   "cell_type": "code",
   "execution_count": 8,
   "metadata": {
    "ExecuteTime": {
     "end_time": "2022-05-15T16:16:38.127132Z",
     "start_time": "2022-05-15T16:16:38.120927Z"
    }
   },
   "outputs": [
    {
     "data": {
      "text/plain": [
       "118"
      ]
     },
     "execution_count": 8,
     "metadata": {},
     "output_type": "execute_result"
    }
   ],
   "source": [
    "len([x for x in all_verdict if  x ])"
   ]
  },
  {
   "cell_type": "code",
   "execution_count": 31,
   "metadata": {
    "ExecuteTime": {
     "end_time": "2022-05-11T19:29:16.273302Z",
     "start_time": "2022-05-11T19:29:16.269444Z"
    }
   },
   "outputs": [
    {
     "data": {
      "text/plain": [
       "0.18620689655172415"
      ]
     },
     "execution_count": 31,
     "metadata": {},
     "output_type": "execute_result"
    }
   ],
   "source": [
    "27/145"
   ]
  },
  {
   "cell_type": "code",
   "execution_count": 30,
   "metadata": {
    "ExecuteTime": {
     "end_time": "2022-05-11T19:29:07.172302Z",
     "start_time": "2022-05-11T19:29:07.168550Z"
    }
   },
   "outputs": [
    {
     "data": {
      "text/plain": [
       "116"
      ]
     },
     "execution_count": 30,
     "metadata": {},
     "output_type": "execute_result"
    }
   ],
   "source": [
    "len([x for x in all_verdict if x])"
   ]
  },
  {
   "cell_type": "code",
   "execution_count": 33,
   "metadata": {
    "ExecuteTime": {
     "end_time": "2022-05-11T19:29:40.422395Z",
     "start_time": "2022-05-11T19:29:40.418947Z"
    }
   },
   "outputs": [
    {
     "data": {
      "text/plain": [
       "2073"
      ]
     },
     "execution_count": 33,
     "metadata": {},
     "output_type": "execute_result"
    }
   ],
   "source": [
    "len([x for x in all_verdict if not x ])"
   ]
  },
  {
   "cell_type": "code",
   "execution_count": 8,
   "metadata": {
    "ExecuteTime": {
     "end_time": "2022-05-11T15:15:17.241051Z",
     "start_time": "2022-05-11T15:15:17.235648Z"
    }
   },
   "outputs": [
    {
     "data": {
      "text/plain": [
       "0.8137931034482758"
      ]
     },
     "execution_count": 8,
     "metadata": {},
     "output_type": "execute_result"
    }
   ],
   "source": [
    "len([x for x in all_verdict if not x ])/len(all_verdict)"
   ]
  },
  {
   "cell_type": "code",
   "execution_count": 17,
   "metadata": {
    "ExecuteTime": {
     "end_time": "2022-05-11T16:02:15.616591Z",
     "start_time": "2022-05-11T16:02:15.612519Z"
    }
   },
   "outputs": [
    {
     "data": {
      "text/plain": [
       "0.9470077661032434"
      ]
     },
     "execution_count": 17,
     "metadata": {},
     "output_type": "execute_result"
    }
   ],
   "source": [
    "len([x for x in all_verdict if not x ])/len(all_verdict)"
   ]
  },
  {
   "cell_type": "code",
   "execution_count": 9,
   "metadata": {
    "ExecuteTime": {
     "end_time": "2022-05-11T15:15:18.562684Z",
     "start_time": "2022-05-11T15:15:18.556872Z"
    }
   },
   "outputs": [
    {
     "data": {
      "text/plain": [
       "27"
      ]
     },
     "execution_count": 9,
     "metadata": {},
     "output_type": "execute_result"
    }
   ],
   "source": [
    "len([x for x in all_verdict if x ])"
   ]
  },
  {
   "cell_type": "code",
   "execution_count": 18,
   "metadata": {
    "ExecuteTime": {
     "end_time": "2022-05-11T16:02:22.716618Z",
     "start_time": "2022-05-11T16:02:22.710941Z"
    }
   },
   "outputs": [
    {
     "data": {
      "text/plain": [
       "116"
      ]
     },
     "execution_count": 18,
     "metadata": {},
     "output_type": "execute_result"
    }
   ],
   "source": [
    "len([x for x in all_verdict if x ])"
   ]
  },
  {
   "cell_type": "code",
   "execution_count": 9,
   "metadata": {
    "ExecuteTime": {
     "end_time": "2022-05-15T16:17:08.779222Z",
     "start_time": "2022-05-15T16:17:08.497635Z"
    }
   },
   "outputs": [
    {
     "name": "stdout",
     "output_type": "stream",
     "text": [
      "not_credible ['Pants on Fire', 'Missing Context', 'False', 'False', 'False', 'False', 'False']\n",
      "################\n",
      "not_credible ['False', 'False', 'Altered']\n",
      "################\n",
      "not_credible ['Pants on Fire']\n",
      "################\n",
      "not_credible ['False']\n",
      "################\n",
      "not_credible ['Pants on Fire', 'Missing Context', 'False', 'False', 'False', 'False', 'False', 'False']\n",
      "################\n",
      "not_credible ['False']\n",
      "################\n",
      "not_credible ['Altered', 'False', 'Pants on Fire', 'Pants on Fire', 'False', 'Missing Context', 'False', 'False', 'False', 'Altered']\n",
      "################\n",
      "not_credible ['False', 'Misleading', 'Biden Is Not Wrong']\n",
      "################\n",
      "not_credible ['Pants on Fire', 'False', 'Altered', 'False', 'False', 'False', 'Altered', 'False', 'Pants on Fire', 'False']\n",
      "################\n",
      "not_credible ['False', 'False', 'Altered', 'Pants on Fire', 'False', 'False', 'Missing Context', 'Altered', 'Pants on Fire', 'False']\n",
      "################\n",
      "not_credible ['False', 'False']\n",
      "################\n",
      "not_credible ['Pants on Fire', 'False', 'Not Even Close']\n",
      "################\n",
      "not_verifiable ['False', 'Partly False', 'True', 'True', 'Misleading. The rules cited differ from state to state, are not new and feature varying levels of accuracy.', 'True', 'False', 'False', 'False', 'FALSE']\n",
      "################\n",
      "not_verifiable ['Four Pinocchios', 'Disputed by Experts', 'False', 'This lacks evidence.', 'False.', 'There aren’t yet peer-reviewed clinical studies to prove either drug is effective against the symptoms of, or can protect against, the new coronavirus. You should not take either unless you’re specifically prescribed them by a doctor.', 'False', 'False', 'False', 'Missing Context']\n",
      "################\n",
      "credible ['True']\n",
      "################\n",
      "not_credible ['Pants on Fire']\n",
      "################\n",
      "not_credible ['Altered', 'Pants on Fire', 'False', 'Pants on Fire', 'False', 'False', 'Missing Context', 'Altered', 'False', 'False']\n",
      "################\n",
      "not_credible ['False', 'Mostly false', 'Miscaptioned', 'False', 'False']\n",
      "################\n",
      "not_credible ['False', 'Missing Context', 'Altered', 'False', 'Pants on Fire', 'Pants on Fire', 'False', 'False', 'False', 'Altered']\n",
      "################\n",
      "not_credible ['Altered', 'False', 'Pants on Fire', 'Pants on Fire', 'False', 'False', 'False', 'False', 'Altered', 'Missing Context']\n",
      "################\n",
      "not_credible ['False', 'False', 'Pants on Fire', 'Altered', 'False', 'False', 'Altered', 'Pants on Fire', 'False', 'False']\n",
      "################\n",
      "not_credible ['False', 'False', 'False', 'False']\n",
      "################\n",
      "not_credible ['False', 'False']\n",
      "################\n",
      "not_verifiable ['False', 'False', 'False', 'We Explain How', 'False. A person who is unvaccinated is more likely to be infected with the coronavirus and more likely to transmit it to others.', 'False', 'False', 'Missing Context', 'False', 'False']\n",
      "################\n",
      "not_credible ['Missing Context']\n",
      "################\n",
      "not_credible ['Altered', 'False', 'False', 'Pants on Fire', 'False', 'Missing Context', 'False', 'Pants on Fire', 'Altered', 'False']\n",
      "################\n",
      "not_credible ['False']\n",
      "################\n",
      "not_verifiable ['Missing Context']\n",
      "################\n",
      "not_credible ['Partly False – Content that has some factual inaccuracies.', 'Misleading']\n",
      "################\n",
      "not_verifiable ['Mostly True']\n",
      "################\n",
      "not_credible ['False', 'False']\n",
      "################\n",
      "not_credible ['This is false. The vaccines do not contain a microchip and there is nothing in a vaccine that could cause a magnet to stick to your skin after getting it.', 'False', 'False', 'False', 'False']\n",
      "################\n",
      "not_credible ['She never said she was in the Capitol building', 'Mostly False', 'Four Pinocchios']\n",
      "################\n",
      "not_credible ['False']\n",
      "################\n",
      "not_credible ['False', 'False']\n",
      "################\n",
      "not_credible ['Mostly False']\n",
      "################\n",
      "not_credible ['Disputed by Experts']\n",
      "################\n",
      "not_credible ['Mostly True']\n",
      "################\n",
      "not_credible ['Mostly False', 'Half True', 'False.', 'Inaccurate', 'False', 'Pants on Fire', 'Mostly True']\n",
      "################\n",
      "not_verifiable ['False', 'Misleading', 'Misleading', 'False', 'False', 'Half True', 'False', 'False', 'False', 'Correct. WhatsApp Gold does not exist, but there are numerous “WhatsApp Gold” scams which encourage people to download the fake app which may be harmful for their computer or mobile device.']\n",
      "################\n",
      "not_credible ['False', 'False', 'False', 'False', 'The CDC has given laboratories advance warning that they will stop requesting approval for one type of PCR test. This is because there are now other, more efficient PCR tests available. Some of these can simultaneously test for influenza viruses as well as SARS-CoV-2 to avoid having to take multiple samples or run multiple tests on the same sample if it is negative for SARS-CoV-2.']\n",
      "################\n",
      "not_credible ['Half True']\n",
      "################\n",
      "not_credible ['Partly False']\n",
      "################\n",
      "not_credible ['False']\n",
      "################\n",
      "uncertain ['False']\n",
      "################\n",
      "uncertain ['False']\n",
      "################\n",
      "not_credible ['Mostly False']\n",
      "################\n",
      "not_credible ['False']\n",
      "################\n",
      "not_verifiable ['Missing Context']\n",
      "################\n",
      "not_credible ['Just GOP']\n",
      "################\n",
      "credible ['She never said she was in the Capitol building']\n",
      "################\n",
      "not_credible ['Three Pinocchios']\n",
      "################\n",
      "not_credible ['False. The Bill does not outlaw people growing their own food per se and to use it to do so would be practically and politically impossible.', 'False', 'False', 'Four Pinocchios', 'Four Pinocchios', 'False', 'False', 'Half True', 'False', 'False']\n",
      "################\n",
      "not_credible ['False', 'False', 'We Explain How']\n",
      "################\n",
      "uncertain ['Mostly False']\n",
      "################\n",
      "not_credible ['False', 'False', 'False.', 'This is misleading.', 'This is misleading.', 'This is misleading.', 'This is exaggerated.', 'This is misleading.', 'This is misleading.', 'Mostly False']\n",
      "################\n",
      "not_credible ['Misleading']\n",
      "################\n",
      "not_credible ['Pants on Fire', 'Missing Context']\n",
      "################\n",
      "not_credible ['The oil prices are correct as of July 2008 and early March 2022. The current petrol price figure is broadly accurate, but the figure given for 2008 is around 15p lower than the price of petrol actually was when oil reached $140 a barrel.', 'False', 'We Explain How', 'OPEC, Russia roles are key', 'Partly False', 'False', 'False', 'False']\n",
      "################\n",
      "not_credible ['Distorts the Facts', 'False']\n",
      "################\n",
      "not_credible ['Misleading']\n",
      "################\n",
      "uncertain ['False', 'False', 'In-Person Vote']\n",
      "################\n",
      "not_credible ['False']\n",
      "################\n",
      "not_credible ['Mostly False']\n",
      "################\n",
      "not_credible ['Some Still Left', 'Misleading']\n",
      "################\n",
      "not_credible ['False', 'She never said she was in the Capitol building']\n",
      "################\n",
      "not_credible ['Mostly True', 'False', 'False', 'False', 'False', 'False', 'Distorts the Facts', 'Pants on Fire', 'Altered', 'False']\n",
      "################\n",
      "not_credible ['False', 'False', 'False', 'False', 'False']\n",
      "################\n",
      "credible ['False', 'Partly False', 'Pants on Fire', 'True', 'True', 'Misleading. The rules cited differ from state to state, are not new and feature varying levels of accuracy.', 'True', 'False', 'False', 'False']\n",
      "################\n",
      "not_credible ['Misleading', 'Partly False', 'Not the Whole Story']\n",
      "################\n",
      "not_verifiable ['Misleading', 'Inaccurate']\n",
      "################\n",
      "not_credible ['False', 'Mostly False', 'There is no evidence for this claim.', 'False', 'No, he didn’t. This seems to come from a fake transcript of a nonexistent court hearing. The mayor of Calgary says it never happened.', 'This is not true and there’s plenty of evidence to show how the vaccines do considerably reduce transmission.', 'Asymptomatic transmission of Covid-19 does exist and has been shown to be an important factor in how the disease spreads. The number of overall asymptomatic cases however has been debated.', 'This is a misinterpretation of a book written in 2020 by the executive chairman of the World Economic Forum.', 'This is not true. None of the vaccines change genetic code or attempt to replace genes.', 'False']\n",
      "################\n",
      "not_credible ['False', 'True', 'False', 'False', 'Misleading', 'Partly False', 'False', 'False']\n",
      "################\n",
      "not_credible ['False']\n",
      "################\n",
      "credible ['Partly False']\n",
      "################\n",
      "not_credible ['Three Pinocchios', 'Exaggerates', 'False']\n",
      "################\n",
      "not_credible ['False', 'Accurate', 'False', 'Fiction', 'False', 'Four Pinocchios', 'Four Pinocchios', 'Four Pinocchios', 'True', 'False']\n",
      "################\n",
      "not_credible ['Inaccurate', 'False. The American Red Cross has stopped accepting donations of plasma containing Covid-19 antibodies from anyone as it has enough supply. It says people who have been vaccinated against Covid-19 can still give blood.']\n",
      "################\n",
      "not_credible ['This is not true. The CDC has withdrawn a request for emergency authorisation for one type of PCR test, but not because of any fault. The FDA has recalled one brand of lateral flow test.', 'False', 'False', 'False']\n",
      "################\n",
      "not_credible ['False', 'Missing Context', 'False', 'False', 'True', 'True', 'False', 'True', 'Pants on Fire', 'Doubtful']\n",
      "################\n",
      "not_credible ['Altered', 'Pants on Fire', 'False', 'False', 'Altered', 'False', 'Pants on Fire', 'False', 'False', 'Missing Context']\n",
      "################\n",
      "not_credible ['False', 'Correct Attribution', 'Mostly False', 'False', 'Half True', 'Mostly False', 'Pants on Fire', 'Inaccurate', 'There’s no record of him ever saying this. The first iterations of this quote appear to have been posted online in 2012.', 'False']\n",
      "################\n",
      "mostly_credible ['False']\n",
      "################\n",
      "not_credible ['Editing amps up effect']\n",
      "################\n",
      "not_credible ['Not the Whole Story', 'Distorts the Facts', 'False', 'Inaccurate']\n",
      "################\n",
      "uncertain ['Mostly True']\n",
      "################\n",
      "not_credible ['False', 'False', 'False. A person who is unvaccinated is more likely to be infected with the coronavirus and more likely to transmit it to others.', 'False']\n",
      "################\n",
      "not_credible ['Unsupported', 'False', 'Misleading', 'Mostly False', 'Misleading', 'Missing Context', 'Unproven', 'Unsupported']\n",
      "################\n",
      "not_credible ['Mostly False', 'False']\n"
     ]
    },
    {
     "name": "stdout",
     "output_type": "stream",
     "text": [
      "################\n",
      "not_credible ['Mostly False', 'While recent data shows the UK death rate from Covid-19 is 0.2%, this was reported after those most vulnerable to Covid-19 had been vaccinated and doesn’t tell us what the survival rate in an unvaccinated population is. There is evidence that vaccines offer significant protection from serious illness and death.']\n",
      "################\n",
      "not_credible ['False', 'Missing Context', 'True', 'Missing Context', 'While they don’t reduce the risk completely, multiple studies have shown vaccines do have a meaningful impact on your chances of catching or passing on the virus once you’ve been vaccinated. Early evidence suggests a booster vaccine will strengthen this effect even more.', 'False', 'False', 'This claim is based on very unreliable estimates of the case rate among unvaccinated people. The opposite may well be true.', 'This is misleading. Covid vaccines have prevented millions of infections—and the subsequent infections that would have come from them. They also reduce the risk of transmission in ‘breakthrough’ infections.', 'Data has shown that even one dose can reduce the chances of you passing it to your household.']\n",
      "################\n",
      "uncertain ['Misleading']\n",
      "################\n",
      "not_credible ['Misleading', 'Some Still Left']\n",
      "################\n",
      "not_credible ['False', 'Partly False', 'True', 'True', 'Misleading. The rules cited differ from state to state, are not new and feature varying levels of accuracy.', 'True', 'False', 'False', 'False', 'FALSE']\n",
      "################\n",
      "not_credible ['Pants on Fire', 'Altered', 'FALSE', 'Half true', 'There is no evidence the actor ever actually said this.', 'FALSE', 'False', 'FALSE', 'Misleading', 'This is misleading.']\n",
      "################\n",
      "not_credible ['True', 'Missing context', 'Misleading', 'Four Pinocchios', 'Misleading', 'False', 'No Evidence', 'False', 'Misleading', 'False']\n",
      "################\n",
      "not_credible ['No Evidence']\n",
      "################\n",
      "not_credible ['False']\n",
      "################\n",
      "not_verifiable ['False', 'Distorts the Facts']\n",
      "################\n",
      "not_credible ['Not the Whole Story']\n",
      "################\n",
      "not_credible ['Two Pinocchios', 'COVID-19 Origins Remain Unknown', 'Two Pinocchios', 'False', 'No Evidence from Lab']\n",
      "################\n",
      "not_credible ['False']\n",
      "################\n",
      "not_credible ['False', 'False', 'False']\n",
      "################\n",
      "not_credible ['Missing Context']\n",
      "################\n",
      "uncertain ['False']\n",
      "################\n",
      "not_credible ['False']\n",
      "################\n",
      "not_credible ['Partly False']\n",
      "################\n",
      "not_credible ['Promise Stalled', 'True', 'True', 'FALSE: Ghana Integrity Initiative (GII), the local chapter of TI, says the reports are false. Turns out, the claim is a regurgitated version of a 2015 survey conducted in 28 countries by TI. More so, the latest edition (2018) of the Corruption Perception Index places Ghana as the 39th most corrupt country in Africa.', 'Mostly false', 'UNVERIFIED', 'FALSE', 'Pants on Fire', 'Half True']\n",
      "################\n",
      "uncertain ['False', 'False']\n",
      "################\n",
      "mostly_credible ['False']\n",
      "################\n",
      "not_credible ['False', 'False', 'False']\n",
      "################\n",
      "not_credible ['Mostly False']\n",
      "################\n",
      "not_verifiable ['Depends on stats used']\n",
      "################\n",
      "not_credible ['False', 'Partly False', 'True', 'True', 'Misleading. The rules cited differ from state to state, are not new and feature varying levels of accuracy.', 'True', 'False', 'False', 'False', 'FALSE']\n",
      "################\n",
      "not_credible ['Mostly false', 'Mostly false', 'False', 'False', 'False', 'False', 'False', 'Half true', 'Partly False', 'We Review The Facts']\n",
      "################\n",
      "not_credible ['False', 'Mostly False', 'There is no evidence for this claim.', 'Misleading', 'False', 'False', 'False']\n",
      "################\n",
      "not_credible ['Four Pinocchios', 'Four Pinocchios', 'Distorts the Facts', 'No Evidence']\n",
      "################\n",
      "not_credible ['FALSE', 'This is accurate with consideration. At least £334m in public funds for 2022-23 is currently gathering dust. No clear way to allocate this money exists without an Executive in place. Although some unusual bureaucratic fixes have been suggested, for now they are legally dubious, at best.', 'Graves yes, village no', 'False', 'Mostly False', 'Half True', 'Mostly True', 'Partly False', 'Mostly False', 'False']\n",
      "################\n"
     ]
    }
   ],
   "source": [
    "c=0\n",
    "for index,row in s.iterrows():\n",
    "    if row.CB_Output:\n",
    "        c+=1\n",
    "        print(row.credibility,row.CB_Output)\n",
    "        print(\"################\")"
   ]
  },
  {
   "cell_type": "code",
   "execution_count": 19,
   "metadata": {
    "ExecuteTime": {
     "end_time": "2022-05-11T16:02:34.394315Z",
     "start_time": "2022-05-11T16:02:34.027184Z"
    }
   },
   "outputs": [
    {
     "name": "stdout",
     "output_type": "stream",
     "text": [
      "not_credible ['Pants on Fire', 'Missing Context', 'False', 'False', 'False', 'False', 'False']\n",
      "################\n",
      "not_credible ['False', 'False', 'Altered']\n",
      "################\n",
      "not_credible ['Pants on Fire']\n",
      "################\n",
      "not_credible ['False']\n",
      "################\n",
      "not_credible ['Pants on Fire', 'Missing Context', 'False', 'False', 'False', 'False', 'False', 'False', 'False']\n",
      "################\n",
      "not_credible ['False']\n",
      "################\n",
      "not_credible ['Altered', 'False', 'Pants on Fire', 'Pants on Fire', 'False', 'False', 'Altered', 'False', 'Missing Context', 'False']\n",
      "################\n",
      "not_credible ['False', 'Misleading', 'Biden Is Not Wrong']\n",
      "################\n",
      "not_credible ['Pants on Fire', 'Altered', 'False', 'False', 'False', 'False', 'Altered', 'False', 'Pants on Fire', 'False']\n",
      "################\n",
      "not_credible ['False', 'Altered', 'False', 'Pants on Fire', 'False', 'False', 'Altered', 'Pants on Fire', 'False', 'Missing Context']\n",
      "################\n",
      "not_credible ['False', 'False']\n",
      "################\n",
      "not_credible ['Pants on Fire', 'False', 'Not Even Close']\n",
      "################\n",
      "not_verifiable ['False', 'Partly False', 'True', 'True', 'Misleading. The rules cited differ from state to state, are not new and feature varying levels of accuracy.', 'True', 'False', 'False', 'False', 'Four Pinocchios']\n",
      "################\n",
      "not_verifiable ['Four Pinocchios', 'False', 'Disputed by Experts', 'False', 'False.', 'This lacks evidence.', 'False', 'There aren’t yet peer-reviewed clinical studies to prove either drug is effective against the symptoms of, or can protect against, the new coronavirus. You should not take either unless you’re specifically prescribed them by a doctor.', 'Missing Context', 'False']\n",
      "################\n",
      "credible ['True']\n",
      "################\n",
      "not_credible ['Altered', 'Pants on Fire', 'False', 'Pants on Fire', 'False', 'Missing Context', 'Altered', 'False', 'False', 'False']\n",
      "################\n",
      "not_credible ['False', 'Mostly false', 'Miscaptioned', 'False', 'False']\n",
      "################\n",
      "not_credible ['False', 'Altered', 'False', 'Pants on Fire', 'False', 'Missing Context', 'Altered', 'False', 'Pants on Fire', 'False']\n",
      "################\n",
      "not_credible ['Altered', 'False', 'Pants on Fire', 'Pants on Fire', 'False', 'False', 'Altered', 'False', 'Missing Context', 'False']\n",
      "################\n",
      "not_credible ['False', 'Pants on Fire', 'False', 'Altered', 'False', 'False', 'Altered', 'Pants on Fire', 'Missing Context', 'False']\n",
      "################\n",
      "not_credible ['False', 'False', 'False', 'False']\n",
      "################\n",
      "not_credible ['False', 'False']\n",
      "################\n",
      "not_verifiable ['False', 'False', 'False. A person who is unvaccinated is more likely to be infected with the coronavirus and more likely to transmit it to others.', 'We Explain How', 'False', 'False', 'False', 'Missing Context', 'False', 'Pants on Fire']\n",
      "################\n",
      "not_credible ['Missing Context']\n",
      "################\n",
      "not_credible ['Altered', 'False', 'False', 'Pants on Fire', 'False', 'False', 'Altered', 'Missing Context', 'Pants on Fire', 'False']\n",
      "################\n",
      "not_credible ['False']\n",
      "################\n",
      "not_verifiable ['Missing Context']\n",
      "################\n",
      "not_credible ['False', 'False']\n",
      "################\n",
      "not_verifiable ['False']\n",
      "################\n",
      "not_credible ['This is false. The vaccines do not contain a microchip and there is nothing in a vaccine that could cause a magnet to stick to your skin after getting it.', 'False', 'False', 'False', 'False']\n",
      "################\n",
      "not_credible ['She never said she was in the Capitol building', 'Mostly False', 'Four Pinocchios']\n",
      "################\n",
      "not_credible ['False']\n",
      "################\n",
      "not_credible ['False', 'False']\n",
      "################\n",
      "not_credible ['Mostly False']\n",
      "################\n",
      "not_credible ['Disputed by Experts']\n",
      "################\n",
      "not_credible ['Mostly True']\n",
      "################\n",
      "not_credible ['Mostly False', 'Half True', 'False.', 'Mostly True', 'False', 'Inaccurate', 'Pants on Fire']\n",
      "################\n",
      "not_verifiable ['Misleading', 'False', 'Misleading', 'False', 'False', 'Half True', 'False', 'False', 'False', 'Correct. WhatsApp Gold does not exist, but there are numerous “WhatsApp Gold” scams which encourage people to download the fake app which may be harmful for their computer or mobile device.']\n",
      "################\n",
      "not_credible ['False', 'False', 'False', 'False', 'The CDC has given laboratories advance warning that they will stop requesting approval for one type of PCR test. This is because there are now other, more efficient PCR tests available. Some of these can simultaneously test for influenza viruses as well as SARS-CoV-2 to avoid having to take multiple samples or run multiple tests on the same sample if it is negative for SARS-CoV-2.']\n",
      "################\n",
      "not_credible ['Half True']\n",
      "################\n",
      "not_credible [\"This is wrong. Deaths and other 'injuries' may occur after someone has had a vaccine, but this does not mean they were caused by the vaccine.\", 'False']\n",
      "################\n",
      "uncertain ['False']\n",
      "################\n",
      "uncertain ['False']\n",
      "################\n",
      "not_credible ['Mostly False']\n",
      "################\n",
      "not_credible ['False', 'False']\n",
      "################\n",
      "not_verifiable ['Missing Context']\n",
      "################\n",
      "not_credible ['Just GOP']\n",
      "################\n",
      "credible ['She never said she was in the Capitol building']\n",
      "################\n",
      "not_credible ['Three Pinocchios']\n",
      "################\n",
      "not_credible ['Four Pinocchios', 'Four Pinocchios', 'Unconfirmed', 'False', 'False', 'Experts say charges unlikely', 'False', 'False', 'False', 'False']\n",
      "################\n",
      "not_credible ['False', 'False', 'We Explain How']\n",
      "################\n",
      "uncertain ['Mostly False']\n",
      "################\n",
      "not_credible ['False', 'False', 'This is misleading.', 'False.', 'This is misleading.', 'This is misleading.', 'This is misleading.', 'This is misleading.', 'This is exaggerated.', 'Mostly False']\n",
      "################\n",
      "not_credible ['Misleading']\n",
      "################\n",
      "not_credible ['Pants on Fire', 'Missing Context']\n",
      "################\n",
      "not_credible ['The oil prices are correct as of July 2008 and early March 2022. The current petrol price figure is broadly accurate, but the figure given for 2008 is around 15p lower than the price of petrol actually was when oil reached $140 a barrel.', 'False', 'We Explain How', 'OPEC, Russia roles are key', 'Partly False', 'False', 'False']\n",
      "################\n",
      "not_credible ['False', 'Distorts the Facts']\n",
      "################\n",
      "not_credible ['Misleading']\n",
      "################\n",
      "uncertain ['False', 'False', 'In-Person Vote']\n",
      "################\n",
      "not_credible ['False']\n",
      "################\n",
      "not_credible ['Mostly False']\n",
      "################\n",
      "not_credible ['Misleading', 'Some Still Left']\n",
      "################\n",
      "not_credible ['She never said she was in the Capitol building', 'False']\n",
      "################\n",
      "not_credible ['False', 'Mostly True', 'False', 'False', 'False', 'Altered', 'False', 'False', 'Misleading', 'Pants on Fire']\n",
      "################\n",
      "not_credible ['False', 'False', 'False', 'False']\n",
      "################\n",
      "credible ['False', 'Partly False', 'True', 'True', 'Misleading. The rules cited differ from state to state, are not new and feature varying levels of accuracy.', 'True', 'False', 'False', 'False', 'Four Pinocchios']\n",
      "################\n",
      "not_credible ['Misleading', 'Partly False', 'Not the Whole Story']\n",
      "################\n",
      "not_verifiable ['Misleading', 'Inaccurate']\n",
      "################\n",
      "not_credible ['False', 'Mostly False', 'There is no evidence for this claim.', 'No, he didn’t. This seems to come from a fake transcript of a nonexistent court hearing. The mayor of Calgary says it never happened.', 'False', 'False', 'This is not true. None of the vaccines change genetic code or attempt to replace genes.', 'Asymptomatic transmission of Covid-19 does exist and has been shown to be an important factor in how the disease spreads. The number of overall asymptomatic cases however has been debated.', 'This is a misinterpretation of a book written in 2020 by the executive chairman of the World Economic Forum.', 'This is not true and there’s plenty of evidence to show how the vaccines do considerably reduce transmission.']\n",
      "################\n",
      "not_credible ['False', 'True', 'False', 'False', 'Misleading', 'Partly False', 'False']\n",
      "################\n",
      "not_credible ['False']\n",
      "################\n",
      "not_credible ['Three Pinocchios', 'Exaggerates', 'False']\n",
      "################\n",
      "not_credible ['False', 'Accurate', 'False', 'False', 'Fiction', 'Four Pinocchios', 'Four Pinocchios', 'Four Pinocchios', 'True', 'Mostly False. Mr Johnson and his government have repeatedly stated support for net zero, although experts say his policies could be at odds with global efforts to limit warming.']\n",
      "################\n",
      "credible ['False']\n",
      "################\n",
      "not_credible ['Inaccurate', 'False. The American Red Cross has stopped accepting donations of plasma containing Covid-19 antibodies from anyone as it has enough supply. It says people who have been vaccinated against Covid-19 can still give blood.']\n",
      "################\n"
     ]
    },
    {
     "name": "stdout",
     "output_type": "stream",
     "text": [
      "not_credible ['False', 'False', 'This is not true. The CDC has withdrawn a request for emergency authorisation for one type of PCR test, but not because of any fault. The FDA has recalled one brand of lateral flow test.', 'False']\n",
      "################\n",
      "not_credible ['False', 'Partly False', 'Pants on Fire', 'True', 'True', 'Misleading. The rules cited differ from state to state, are not new and feature varying levels of accuracy.', 'True', 'False', 'False', 'False']\n",
      "################\n",
      "not_credible ['Altered', 'Pants on Fire', 'False', 'Altered', 'False', 'Pants on Fire', 'False', 'False', 'False', 'False']\n",
      "################\n",
      "not_credible ['Three Pinocchios', 'Four Pinocchios', 'Four Pinocchios', 'Four Pinocchios', 'Four Pinocchios', 'False', 'Pants on Fire', 'Mostly False', 'U.S. Groups Donated Supplies', 'Includes outside spending']\n",
      "################\n",
      "mostly_credible ['False']\n",
      "################\n",
      "not_credible ['Editing amps up effect']\n",
      "################\n",
      "not_credible ['Not the Whole Story', 'Distorts the Facts', 'False', 'Inaccurate']\n",
      "################\n",
      "uncertain ['Mostly True']\n",
      "################\n",
      "not_credible ['False', 'False', 'False', 'False. A person who is unvaccinated is more likely to be infected with the coronavirus and more likely to transmit it to others.', 'False']\n",
      "################\n",
      "not_credible ['Unsupported', 'False', 'Misleading', 'Mostly False', 'Misleading', 'Unproven', 'Unsupported']\n",
      "################\n",
      "not_credible ['False', 'Mostly False']\n",
      "################\n",
      "not_credible ['Mostly False', 'While recent data shows the UK death rate from Covid-19 is 0.2%, this was reported after those most vulnerable to Covid-19 had been vaccinated and doesn’t tell us what the survival rate in an unvaccinated population is. There is evidence that vaccines offer significant protection from serious illness and death.']\n",
      "################\n",
      "not_credible ['False', 'Missing Context', 'While they don’t reduce the risk completely, multiple studies have shown vaccines do have a meaningful impact on your chances of catching or passing on the virus once you’ve been vaccinated. Early evidence suggests a booster vaccine will strengthen this effect even more.', 'This claim is based on very unreliable estimates of the case rate among unvaccinated people. The opposite may well be true.', 'This is misleading. Covid vaccines have prevented millions of infections—and the subsequent infections that would have come from them. They also reduce the risk of transmission in ‘breakthrough’ infections.', 'True', 'False', 'Missing Context', 'Half True', 'Pants on Fire']\n",
      "################\n",
      "uncertain ['Misleading']\n",
      "################\n",
      "not_credible ['Misleading', 'Some Still Left', 'Mostly False']\n",
      "################\n",
      "not_credible ['False', 'Partly False', 'True', 'True', 'Misleading. The rules cited differ from state to state, are not new and feature varying levels of accuracy.', 'True', 'False', 'False', 'False', 'Four Pinocchios']\n",
      "################\n",
      "not_credible ['Pants on Fire', 'Altered', 'Half true', 'There is no evidence the actor ever actually said this.', 'FALSE', 'misleading', 'False', 'FALSE', 'Misleading', 'This is misleading.']\n",
      "################\n",
      "not_credible ['Misleading', 'Four Pinocchios', 'Misleading', 'No Evidence', 'False', 'False', 'Misleading', 'False', 'False', 'Mostly False']\n",
      "################\n",
      "not_credible ['No Evidence']\n",
      "################\n",
      "not_credible ['False']\n",
      "################\n",
      "not_verifiable ['False', 'Distorts the Facts']\n",
      "################\n",
      "not_credible ['Not the Whole Story']\n",
      "################\n",
      "not_credible ['Two Pinocchios', 'Two Pinocchios', 'COVID-19 Origins Remain Unknown', 'False', 'No Evidence from Lab']\n",
      "################\n",
      "not_credible ['False']\n",
      "################\n",
      "not_credible ['False', 'False', 'False']\n",
      "################\n",
      "not_credible ['Missing Context']\n",
      "################\n",
      "uncertain ['False']\n",
      "################\n",
      "not_credible ['False']\n",
      "################\n",
      "not_credible ['Partly False']\n",
      "################\n",
      "not_credible ['Misleading', 'Promise Stalled', 'True', 'True', 'FALSE: Ghana Integrity Initiative (GII), the local chapter of TI, says the reports are false. Turns out, the claim is a regurgitated version of a 2015 survey conducted in 28 countries by TI. More so, the latest edition (2018) of the Corruption Perception Index places Ghana as the 39th most corrupt country in Africa.', 'Mostly false', 'UNVERIFIED', 'FALSE', 'Pants on Fire', 'Half True']\n",
      "################\n",
      "uncertain ['False', 'False']\n",
      "################\n",
      "mostly_credible ['False']\n",
      "################\n",
      "not_credible ['False', 'False', 'False']\n",
      "################\n",
      "not_credible ['Mostly False']\n",
      "################\n",
      "not_verifiable ['Depends on stats used']\n",
      "################\n",
      "not_credible ['False', 'Partly False', 'True', 'True', 'Misleading. The rules cited differ from state to state, are not new and feature varying levels of accuracy.', 'True', 'False', 'False', 'False', 'FALSE']\n",
      "################\n",
      "credible ['False']\n",
      "################\n",
      "not_credible ['False', 'Missing Context', 'False', 'Half true', 'Partly False', 'False', 'Altered', 'We Review The Facts', 'Mostly false', 'Misleading']\n",
      "################\n",
      "not_credible ['False', 'Mostly False', 'There is no evidence for this claim.', 'Misleading', 'False', 'False', 'False']\n",
      "################\n",
      "not_credible ['Four Pinocchios', 'Four Pinocchios', 'No Evidence', 'Distorts the Facts']\n",
      "################\n",
      "not_credible ['FALSE', 'This is accurate with consideration. At least £334m in public funds for 2022-23 is currently gathering dust. No clear way to allocate this money exists without an Executive in place. Although some unusual bureaucratic fixes have been suggested, for now they are legally dubious, at best.', 'Graves yes, village no', 'False', 'False', 'Mostly False', 'Half True', 'Mostly True', 'Partly False', 'Mostly False']\n",
      "################\n"
     ]
    }
   ],
   "source": [
    "c=0\n",
    "for index,row in s.iterrows():\n",
    "    if row.CB_Output:\n",
    "        c+=1\n",
    "        print(row.credibility,row.CB_Output)\n",
    "        print(\"################\")"
   ]
  },
  {
   "cell_type": "code",
   "execution_count": 11,
   "metadata": {
    "ExecuteTime": {
     "end_time": "2022-05-15T16:17:20.587113Z",
     "start_time": "2022-05-15T16:17:20.583224Z"
    }
   },
   "outputs": [
    {
     "data": {
      "text/plain": [
       "118"
      ]
     },
     "execution_count": 11,
     "metadata": {},
     "output_type": "execute_result"
    }
   ],
   "source": [
    "c"
   ]
  },
  {
   "cell_type": "code",
   "execution_count": 53,
   "metadata": {
    "ExecuteTime": {
     "end_time": "2022-05-15T16:25:50.879360Z",
     "start_time": "2022-05-15T16:25:50.874606Z"
    }
   },
   "outputs": [
    {
     "data": {
      "text/plain": [
       "{'credible': 0,\n",
       " 'mostly_credible': 0,\n",
       " 'not_credible': 1,\n",
       " 'uncertain': 2,\n",
       " nan: 3}"
      ]
     },
     "execution_count": 53,
     "metadata": {},
     "output_type": "execute_result"
    }
   ],
   "source": [
    "k"
   ]
  },
  {
   "cell_type": "code",
   "execution_count": 79,
   "metadata": {
    "ExecuteTime": {
     "end_time": "2022-05-15T16:37:38.027156Z",
     "start_time": "2022-05-15T16:37:38.017457Z"
    },
    "code_folding": []
   },
   "outputs": [],
   "source": [
    "cb_k={'Accurate':0,\n",
    " 'Altered':2,\n",
    " 'Asymptomatic transmission of Covid-19 does exist and has been shown to be an important factor in how the disease spreads. The number of overall asymptomatic cases however has been debated.':3,\n",
    " 'Biden Is Not Wrong':3,\n",
    " 'COVID-19 Origins Remain Unknown':3,\n",
    " 'Correct Attribution':0,\n",
    " 'Correct. WhatsApp Gold does not exist, but there are numerous “WhatsApp Gold” scams which encourage people to download the fake app which may be harmful for their computer or mobile device.':0,\n",
    " 'Data has shown that even one dose can reduce the chances of you passing it to your household.':3,\n",
    " 'Depends on stats used':3,\n",
    " 'Disputed by Experts':3,\n",
    " 'Distorts the Facts':1,\n",
    " 'Doubtful':2,\n",
    " 'Editing amps up effect':3,\n",
    " 'Exaggerates':3,\n",
    " 'FALSE':1,\n",
    " 'FALSE: Ghana Integrity Initiative (GII), the local chapter of TI, says the reports are false. Turns out, the claim is a regurgitated version of a 2015 survey conducted in 28 countries by TI. More so, the latest edition (2018) of the Corruption Perception Index places Ghana as the 39th most corrupt country in Africa.':1,\n",
    " 'False':1,\n",
    " 'False.':1,\n",
    " 'False. A person who is unvaccinated is more likely to be infected with the coronavirus and more likely to transmit it to others.':1,\n",
    " 'False. The American Red Cross has stopped accepting donations of plasma containing Covid-19 antibodies from anyone as it has enough supply. It says people who have been vaccinated against Covid-19 can still give blood.':1,\n",
    " 'False. The Bill does not outlaw people growing their own food per se and to use it to do so would be practically and politically impossible.':1,\n",
    " 'Fiction':1,\n",
    " 'Four Pinocchios':3,\n",
    " 'Graves yes, village no':3,\n",
    " 'Half True':0,\n",
    " 'Half true':0,\n",
    " 'In-Person Vote':3,\n",
    " 'Inaccurate':1,\n",
    " 'Just GOP':3,\n",
    " 'Miscaptioned':1,\n",
    " 'Misleading':1,\n",
    " 'Misleading. The rules cited differ from state to state, are not new and feature varying levels of accuracy.':1,\n",
    " 'Missing Context':1,\n",
    " 'Missing context':1,\n",
    " 'Mostly False':1,\n",
    " 'Mostly True':0,\n",
    " 'Mostly false':1,\n",
    " 'No Evidence':1,\n",
    " 'No Evidence from Lab':1,\n",
    " 'No, he didn’t. This seems to come from a fake transcript of a nonexistent court hearing. The mayor of Calgary says it never happened.':1,\n",
    " 'Not Even Close':1,\n",
    " 'Not the Whole Story':2,\n",
    " 'OPEC, Russia roles are key':3,\n",
    " 'Pants on Fire':1,\n",
    " 'Partly False':1,\n",
    " 'Partly False – Content that has some factual inaccuracies.':1,\n",
    " 'Promise Stalled':3,\n",
    " 'She never said she was in the Capitol building':3,\n",
    " 'Some Still Left':3,\n",
    " 'The CDC has given laboratories advance warning that they will stop requesting approval for one type of PCR test. This is because there are now other, more efficient PCR tests available. Some of these can simultaneously test for influenza viruses as well as SARS-CoV-2 to avoid having to take multiple samples or run multiple tests on the same sample if it is negative for SARS-CoV-2.':3,\n",
    " 'The oil prices are correct as of July 2008 and early March 2022. The current petrol price figure is broadly accurate, but the figure given for 2008 is around 15p lower than the price of petrol actually was when oil reached $140 a barrel.':3,\n",
    " 'There aren’t yet peer-reviewed clinical studies to prove either drug is effective against the symptoms of, or can protect against, the new coronavirus. You should not take either unless you’re specifically prescribed them by a doctor.':3,\n",
    " 'There is no evidence for this claim.':1,\n",
    " 'There is no evidence the actor ever actually said this.':1,\n",
    " 'There’s no record of him ever saying this. The first iterations of this quote appear to have been posted online in 2012.':1,\n",
    " 'This claim is based on very unreliable estimates of the case rate among unvaccinated people. The opposite may well be true.':3,\n",
    " 'This is a misinterpretation of a book written in 2020 by the executive chairman of the World Economic Forum.':3,\n",
    " 'This is accurate with consideration. At least £334m in public funds for 2022-23 is currently gathering dust. No clear way to allocate this money exists without an Executive in place. Although some unusual bureaucratic fixes have been suggested, for now they are legally dubious, at best.':0,\n",
    " 'This is exaggerated.':1,\n",
    " 'This is false. The vaccines do not contain a microchip and there is nothing in a vaccine that could cause a magnet to stick to your skin after getting it.':1,\n",
    " 'This is misleading.':1,\n",
    " 'This is misleading. Covid vaccines have prevented millions of infections—and the subsequent infections that would have come from them. They also reduce the risk of transmission in ‘breakthrough’ infections.':1,\n",
    " 'This is not true and there’s plenty of evidence to show how the vaccines do considerably reduce transmission.':1,\n",
    " 'This is not true. None of the vaccines change genetic code or attempt to replace genes.':1,\n",
    " 'This is not true. The CDC has withdrawn a request for emergency authorisation for one type of PCR test, but not because of any fault. The FDA has recalled one brand of lateral flow test.':1,\n",
    " 'This lacks evidence.':1,\n",
    " 'Three Pinocchios':3,\n",
    " 'True':0,\n",
    " 'Two Pinocchios':3,\n",
    " 'UNVERIFIED':2,\n",
    " 'Unproven':2,\n",
    " 'Unsupported':1,\n",
    " 'We Explain How':3,\n",
    " 'We Review The Facts':3,\n",
    " 'While recent data shows the UK death rate from Covid-19 is 0.2%, this was reported after those most vulnerable to Covid-19 had been vaccinated and doesn’t tell us what the survival rate in an unvaccinated population is. There is evidence that vaccines offer significant protection from serious illness and death.':3,\n",
    " 'While they don’t reduce the risk completely, multiple studies have shown vaccines do have a meaningful impact on your chances of catching or passing on the virus once you’ve been vaccinated. Early evidence suggests a booster vaccine will strengthen this effect even more.':3}"
   ]
  },
  {
   "cell_type": "code",
   "execution_count": 83,
   "metadata": {
    "ExecuteTime": {
     "end_time": "2022-05-15T16:38:19.194678Z",
     "start_time": "2022-05-15T16:38:19.157466Z"
    }
   },
   "outputs": [],
   "source": [
    "transformed_cb=[]\n",
    "for i in range(len(s.CB_Output)):\n",
    "    cb_out = s.CB_Output.iloc[i]\n",
    "    if not cb_out: transformed_cb.append(3)\n",
    "    else:\n",
    "        t=[cb_k[x] for x in cb_out]\n",
    "        winner = find_winner(t)\n",
    "        winner = [x for x in winner if x != 3]\n",
    "        if not winner: winner=[3]\n",
    "        if len(winner)==1: transformed_cb.append(winner[0])\n",
    "        else: \n",
    "            print('no winner')\n",
    "            break"
   ]
  },
  {
   "cell_type": "code",
   "execution_count": 86,
   "metadata": {
    "ExecuteTime": {
     "end_time": "2022-05-15T16:38:36.257259Z",
     "start_time": "2022-05-15T16:38:36.252458Z"
    }
   },
   "outputs": [
    {
     "data": {
      "text/plain": [
       "{'credible': 0,\n",
       " 'mostly_credible': 0,\n",
       " 'not_credible': 1,\n",
       " 'uncertain': 2,\n",
       " nan: 3}"
      ]
     },
     "execution_count": 86,
     "metadata": {},
     "output_type": "execute_result"
    }
   ],
   "source": [
    "k"
   ]
  },
  {
   "cell_type": "code",
   "execution_count": 87,
   "metadata": {
    "ExecuteTime": {
     "end_time": "2022-05-15T16:38:41.440735Z",
     "start_time": "2022-05-15T16:38:41.429966Z"
    }
   },
   "outputs": [
    {
     "data": {
      "text/plain": [
       "0.042119565217391304"
      ]
     },
     "execution_count": 87,
     "metadata": {},
     "output_type": "execute_result"
    }
   ],
   "source": [
    "f1_score(transformed_cb,[k[x] for x in s.credibility],average='micro')"
   ]
  },
  {
   "cell_type": "markdown",
   "metadata": {},
   "source": [
    "# Random Classifier"
   ]
  },
  {
   "cell_type": "code",
   "execution_count": 12,
   "metadata": {
    "ExecuteTime": {
     "end_time": "2022-05-15T16:17:23.823328Z",
     "start_time": "2022-05-15T16:17:23.820798Z"
    }
   },
   "outputs": [],
   "source": [
    "from random import choice"
   ]
  },
  {
   "cell_type": "code",
   "execution_count": 13,
   "metadata": {
    "ExecuteTime": {
     "end_time": "2022-05-15T16:17:24.045045Z",
     "start_time": "2022-05-15T16:17:24.041369Z"
    }
   },
   "outputs": [
    {
     "data": {
      "text/plain": [
       "{'credible', 'mostly_credible', 'not_credible', 'not_verifiable', 'uncertain'}"
      ]
     },
     "execution_count": 13,
     "metadata": {},
     "output_type": "execute_result"
    }
   ],
   "source": [
    "set(merge_corpus.credibility)"
   ]
  },
  {
   "cell_type": "code",
   "execution_count": 5,
   "metadata": {
    "ExecuteTime": {
     "end_time": "2022-05-14T11:58:07.065486Z",
     "start_time": "2022-05-14T11:58:07.049123Z"
    }
   },
   "outputs": [
    {
     "data": {
      "text/plain": [
       "not_credible       2152\n",
       "not_verifiable      319\n",
       "uncertain           242\n",
       "credible            233\n",
       "mostly_credible      70\n",
       "Name: credibility, dtype: int64"
      ]
     },
     "execution_count": 5,
     "metadata": {},
     "output_type": "execute_result"
    }
   ],
   "source": [
    "merge_corpus.credibility.value_counts()"
   ]
  },
  {
   "cell_type": "code",
   "execution_count": 14,
   "metadata": {
    "ExecuteTime": {
     "end_time": "2022-05-15T16:17:26.537811Z",
     "start_time": "2022-05-15T16:17:26.532768Z"
    }
   },
   "outputs": [
    {
     "data": {
      "text/plain": [
       "not_credible       2167\n",
       "not_verifiable      325\n",
       "uncertain           247\n",
       "credible            234\n",
       "mostly_credible      70\n",
       "Name: credibility, dtype: int64"
      ]
     },
     "execution_count": 14,
     "metadata": {},
     "output_type": "execute_result"
    }
   ],
   "source": [
    "merge_corpus.credibility.value_counts()"
   ]
  },
  {
   "cell_type": "code",
   "execution_count": 43,
   "metadata": {
    "ExecuteTime": {
     "end_time": "2022-05-12T08:32:20.785344Z",
     "start_time": "2022-05-12T08:32:20.779210Z"
    }
   },
   "outputs": [
    {
     "data": {
      "text/plain": [
       "not_credible      151\n",
       "not_verifiable     15\n",
       "credible           13\n",
       "uncertain          10\n",
       "Name: credibility, dtype: int64"
      ]
     },
     "execution_count": 43,
     "metadata": {},
     "output_type": "execute_result"
    }
   ],
   "source": [
    "merge_corpus.credibility.value_counts()"
   ]
  },
  {
   "cell_type": "code",
   "execution_count": 15,
   "metadata": {
    "ExecuteTime": {
     "end_time": "2022-05-15T16:21:57.214953Z",
     "start_time": "2022-05-15T16:17:32.529025Z"
    }
   },
   "outputs": [],
   "source": [
    "all_n=[]\n",
    "for _ in range(1000):\n",
    "    n=0\n",
    "    m={'NEI':'uncertain','Supports':'credible','Refutes':'not_credible'}\n",
    "    for index,row in merge_corpus.drop_duplicates(subset='tweetId').iterrows():\n",
    "        c=m[choice(['NEI','Supports','Refutes'])]\n",
    "        t = row.credibility\n",
    "        if t == 'not_verifiable': t = 'not_credible'\n",
    "        n+=(c==t)\n",
    "    all_n.append(n/len(merge_corpus))"
   ]
  },
  {
   "cell_type": "code",
   "execution_count": 16,
   "metadata": {
    "ExecuteTime": {
     "end_time": "2022-05-15T16:21:57.224913Z",
     "start_time": "2022-05-15T16:21:57.217433Z"
    }
   },
   "outputs": [
    {
     "data": {
      "text/plain": [
       "0.23577817942819587"
      ]
     },
     "execution_count": 16,
     "metadata": {},
     "output_type": "execute_result"
    }
   ],
   "source": [
    "np.mean(all_n)"
   ]
  },
  {
   "cell_type": "code",
   "execution_count": 17,
   "metadata": {
    "ExecuteTime": {
     "end_time": "2022-05-15T16:21:57.241145Z",
     "start_time": "2022-05-15T16:21:57.231436Z"
    }
   },
   "outputs": [
    {
     "data": {
      "text/plain": [
       "0.007169176220786542"
      ]
     },
     "execution_count": 17,
     "metadata": {},
     "output_type": "execute_result"
    }
   ],
   "source": [
    "np.std(all_n)"
   ]
  },
  {
   "cell_type": "code",
   "execution_count": 18,
   "metadata": {
    "ExecuteTime": {
     "end_time": "2022-05-15T16:21:58.377628Z",
     "start_time": "2022-05-15T16:21:57.243987Z"
    }
   },
   "outputs": [],
   "source": [
    "from sklearn.metrics import f1_score"
   ]
  },
  {
   "cell_type": "code",
   "execution_count": 19,
   "metadata": {
    "ExecuteTime": {
     "end_time": "2022-05-15T16:22:12.218869Z",
     "start_time": "2022-05-15T16:21:58.384592Z"
    }
   },
   "outputs": [],
   "source": [
    "all_f1=[]\n",
    "l={'uncertain':0,'credible':1,'not_credible':2,'not_verifiable':2,'mostly_credible':1}\n",
    "\n",
    "target = merge_corpus.credibility.apply(lambda x: l[x])\n",
    "target=[l[x] for x in list(merge_corpus.credibility)]\n",
    "for _ in range(1000):\n",
    "    preds=[l[m[choice(['NEI','Supports','Refutes'])]] for _ in range(len(target))]\n",
    "    all_f1.append(f1_score(target,preds,average='micro'))"
   ]
  },
  {
   "cell_type": "code",
   "execution_count": 20,
   "metadata": {
    "ExecuteTime": {
     "end_time": "2022-05-15T16:22:12.233649Z",
     "start_time": "2022-05-15T16:22:12.222491Z"
    }
   },
   "outputs": [
    {
     "data": {
      "text/plain": [
       "Counter({2: 2492, 0: 247, 1: 304})"
      ]
     },
     "execution_count": 20,
     "metadata": {},
     "output_type": "execute_result"
    }
   ],
   "source": [
    "from collections import Counter\n",
    "Counter(target)"
   ]
  },
  {
   "cell_type": "code",
   "execution_count": 21,
   "metadata": {
    "ExecuteTime": {
     "end_time": "2022-05-15T16:22:12.247426Z",
     "start_time": "2022-05-15T16:22:12.237190Z"
    }
   },
   "outputs": [
    {
     "data": {
      "text/plain": [
       "0.3327650345054223"
      ]
     },
     "execution_count": 21,
     "metadata": {},
     "output_type": "execute_result"
    }
   ],
   "source": [
    "np.mean(all_f1)"
   ]
  },
  {
   "cell_type": "code",
   "execution_count": 23,
   "metadata": {
    "ExecuteTime": {
     "end_time": "2022-05-15T16:22:22.220508Z",
     "start_time": "2022-05-15T16:22:22.214995Z"
    }
   },
   "outputs": [
    {
     "data": {
      "text/plain": [
       "0.00829607089430472"
      ]
     },
     "execution_count": 23,
     "metadata": {},
     "output_type": "execute_result"
    }
   ],
   "source": [
    "np.std(all_f1)"
   ]
  },
  {
   "cell_type": "markdown",
   "metadata": {},
   "source": [
    "# System"
   ]
  },
  {
   "cell_type": "code",
   "execution_count": 24,
   "metadata": {
    "ExecuteTime": {
     "end_time": "2022-05-15T16:22:24.715240Z",
     "start_time": "2022-05-15T16:22:24.712969Z"
    }
   },
   "outputs": [],
   "source": [
    "import pandas as pd"
   ]
  },
  {
   "cell_type": "code",
   "execution_count": 25,
   "metadata": {
    "ExecuteTime": {
     "end_time": "2022-05-15T16:22:25.105745Z",
     "start_time": "2022-05-15T16:22:24.975158Z"
    }
   },
   "outputs": [],
   "source": [
    "system3=pd.read_csv('../data/Computational Methods/tweets_output_final.csv')"
   ]
  },
  {
   "cell_type": "code",
   "execution_count": 26,
   "metadata": {
    "ExecuteTime": {
     "end_time": "2022-05-15T16:22:25.405808Z",
     "start_time": "2022-05-15T16:22:25.402291Z"
    }
   },
   "outputs": [
    {
     "data": {
      "text/plain": [
       "(9339, 8)"
      ]
     },
     "execution_count": 26,
     "metadata": {},
     "output_type": "execute_result"
    }
   ],
   "source": [
    "system3.shape"
   ]
  },
  {
   "cell_type": "code",
   "execution_count": 27,
   "metadata": {
    "ExecuteTime": {
     "end_time": "2022-05-15T16:22:25.896166Z",
     "start_time": "2022-05-15T16:22:25.893358Z"
    }
   },
   "outputs": [],
   "source": [
    "num2label={\n",
    "0:'credible', \n",
    "1:'not_credible', \n",
    "2:'uncertain'}"
   ]
  },
  {
   "cell_type": "code",
   "execution_count": 28,
   "metadata": {
    "ExecuteTime": {
     "end_time": "2022-05-15T16:22:29.349049Z",
     "start_time": "2022-05-15T16:22:27.503897Z"
    }
   },
   "outputs": [
    {
     "name": "stderr",
     "output_type": "stream",
     "text": [
      "2208it [00:01, 1203.59it/s]\n"
     ]
    }
   ],
   "source": [
    "\n",
    "system_verdict=[]\n",
    "for index,row in tqdm(merge_corpus.drop_duplicates(subset='tweetId').iterrows()):\n",
    "    tid = row.tweetId\n",
    "    s=system3[system3.id==tid]\n",
    "    if not s.empty:\n",
    "        system_verdict.append(num2label[s['pred_label_final'].squeeze()])\n",
    "    else:\n",
    "        system_verdict.append(np.nan)"
   ]
  },
  {
   "cell_type": "code",
   "execution_count": 29,
   "metadata": {
    "ExecuteTime": {
     "end_time": "2022-05-15T16:22:29.357407Z",
     "start_time": "2022-05-15T16:22:29.353793Z"
    }
   },
   "outputs": [
    {
     "data": {
      "text/plain": [
       "{'credible', nan, 'not_credible', 'uncertain'}"
      ]
     },
     "execution_count": 29,
     "metadata": {},
     "output_type": "execute_result"
    }
   ],
   "source": [
    "set(system_verdict)"
   ]
  },
  {
   "cell_type": "code",
   "execution_count": 30,
   "metadata": {
    "ExecuteTime": {
     "end_time": "2022-05-15T16:22:30.667657Z",
     "start_time": "2022-05-15T16:22:30.664173Z"
    }
   },
   "outputs": [],
   "source": [
    "k={'credible':0,\n",
    "'mostly_credible':0,\n",
    "'not_credible':1,\n",
    "'uncertain':2,\n",
    "np.nan:3}"
   ]
  },
  {
   "cell_type": "code",
   "execution_count": 31,
   "metadata": {
    "ExecuteTime": {
     "end_time": "2022-05-15T16:22:31.367001Z",
     "start_time": "2022-05-15T16:22:31.360541Z"
    }
   },
   "outputs": [],
   "source": [
    "s=merge_corpus.drop_duplicates(subset='tweetId')"
   ]
  },
  {
   "cell_type": "code",
   "execution_count": 33,
   "metadata": {
    "ExecuteTime": {
     "end_time": "2022-05-15T16:22:40.031464Z",
     "start_time": "2022-05-15T16:22:40.028250Z"
    }
   },
   "outputs": [],
   "source": [
    "def find_winner(x):\n",
    "    x = Counter(x).items()\n",
    "    m = max([xx[1] for xx in x ])\n",
    "    return [xx[0] for xx in x if xx[1]==m]"
   ]
  },
  {
   "cell_type": "code",
   "execution_count": 34,
   "metadata": {
    "ExecuteTime": {
     "end_time": "2022-05-15T16:22:41.584037Z",
     "start_time": "2022-05-15T16:22:40.273322Z"
    }
   },
   "outputs": [],
   "source": [
    "BW_vote = []\n",
    "for t in s.tweetId:\n",
    "    BW_labels = list(merge_corpus[merge_corpus.tweetId==t]['classification'])\n",
    "    winner_BW = find_winner(BW_labels)\n",
    "    if len(winner_BW)==1: BW_vote.append(winner_BW[0])\n",
    "    else: BW_vote.append('Tie')"
   ]
  },
  {
   "cell_type": "code",
   "execution_count": 35,
   "metadata": {
    "ExecuteTime": {
     "end_time": "2022-05-15T16:22:41.590071Z",
     "start_time": "2022-05-15T16:22:41.585830Z"
    }
   },
   "outputs": [
    {
     "name": "stderr",
     "output_type": "stream",
     "text": [
      "/home/barbacou/.local/lib/python3.6/site-packages/ipykernel_launcher.py:1: SettingWithCopyWarning: \n",
      "A value is trying to be set on a copy of a slice from a DataFrame.\n",
      "Try using .loc[row_indexer,col_indexer] = value instead\n",
      "\n",
      "See the caveats in the documentation: https://pandas.pydata.org/pandas-docs/stable/user_guide/indexing.html#returning-a-view-versus-a-copy\n",
      "  \"\"\"Entry point for launching an IPython kernel.\n"
     ]
    }
   ],
   "source": [
    "s['systemVerdict']=system_verdict"
   ]
  },
  {
   "cell_type": "code",
   "execution_count": 36,
   "metadata": {
    "ExecuteTime": {
     "end_time": "2022-05-15T16:22:41.598313Z",
     "start_time": "2022-05-15T16:22:41.593000Z"
    }
   },
   "outputs": [
    {
     "name": "stderr",
     "output_type": "stream",
     "text": [
      "/home/barbacou/.local/lib/python3.6/site-packages/ipykernel_launcher.py:1: SettingWithCopyWarning: \n",
      "A value is trying to be set on a copy of a slice from a DataFrame.\n",
      "Try using .loc[row_indexer,col_indexer] = value instead\n",
      "\n",
      "See the caveats in the documentation: https://pandas.pydata.org/pandas-docs/stable/user_guide/indexing.html#returning-a-view-versus-a-copy\n",
      "  \"\"\"Entry point for launching an IPython kernel.\n"
     ]
    }
   ],
   "source": [
    "s['classification'] = BW_vote"
   ]
  },
  {
   "cell_type": "code",
   "execution_count": 37,
   "metadata": {
    "ExecuteTime": {
     "end_time": "2022-05-15T16:22:43.584802Z",
     "start_time": "2022-05-15T16:22:43.576776Z"
    }
   },
   "outputs": [
    {
     "name": "stderr",
     "output_type": "stream",
     "text": [
      "/home/barbacou/.local/lib/python3.6/site-packages/pandas/core/generic.py:5170: SettingWithCopyWarning: \n",
      "A value is trying to be set on a copy of a slice from a DataFrame.\n",
      "Try using .loc[row_indexer,col_indexer] = value instead\n",
      "\n",
      "See the caveats in the documentation: https://pandas.pydata.org/pandas-docs/stable/user_guide/indexing.html#returning-a-view-versus-a-copy\n",
      "  self[name] = value\n"
     ]
    }
   ],
   "source": [
    "s.credibility=s.credibility.apply(lambda x:'not_credible' if x =='not_verifiable' else x )"
   ]
  },
  {
   "cell_type": "code",
   "execution_count": 38,
   "metadata": {
    "ExecuteTime": {
     "end_time": "2022-05-15T16:22:45.499776Z",
     "start_time": "2022-05-15T16:22:45.493348Z"
    }
   },
   "outputs": [
    {
     "data": {
      "text/plain": [
       "369"
      ]
     },
     "execution_count": 38,
     "metadata": {},
     "output_type": "execute_result"
    }
   ],
   "source": [
    "sum(s.credibility==s.systemVerdict)"
   ]
  },
  {
   "cell_type": "code",
   "execution_count": 39,
   "metadata": {
    "ExecuteTime": {
     "end_time": "2022-05-15T16:22:47.680988Z",
     "start_time": "2022-05-15T16:22:47.674453Z"
    }
   },
   "outputs": [
    {
     "data": {
      "text/plain": [
       "0          uncertain\n",
       "1       not_credible\n",
       "2                NaN\n",
       "3           credible\n",
       "4          uncertain\n",
       "            ...     \n",
       "3035       uncertain\n",
       "3038       uncertain\n",
       "3039       uncertain\n",
       "3040       uncertain\n",
       "3041       uncertain\n",
       "Name: systemVerdict, Length: 2208, dtype: object"
      ]
     },
     "execution_count": 39,
     "metadata": {},
     "output_type": "execute_result"
    }
   ],
   "source": [
    "s.systemVerdict"
   ]
  },
  {
   "cell_type": "code",
   "execution_count": 40,
   "metadata": {
    "ExecuteTime": {
     "end_time": "2022-05-15T16:23:00.933865Z",
     "start_time": "2022-05-15T16:23:00.925633Z"
    }
   },
   "outputs": [
    {
     "data": {
      "text/plain": [
       "2149"
      ]
     },
     "execution_count": 40,
     "metadata": {},
     "output_type": "execute_result"
    }
   ],
   "source": [
    "sum(s.systemVerdict.value_counts())"
   ]
  },
  {
   "cell_type": "code",
   "execution_count": 46,
   "metadata": {
    "ExecuteTime": {
     "end_time": "2022-05-15T16:24:05.089915Z",
     "start_time": "2022-05-15T16:24:05.079436Z"
    }
   },
   "outputs": [
    {
     "data": {
      "text/plain": [
       "0.17074275362318841"
      ]
     },
     "execution_count": 46,
     "metadata": {},
     "output_type": "execute_result"
    }
   ],
   "source": [
    "f1_score([k[x] for x in system_verdict],[k[x] for x in s.credibility],average='micro')"
   ]
  },
  {
   "cell_type": "code",
   "execution_count": 160,
   "metadata": {
    "ExecuteTime": {
     "end_time": "2022-05-12T09:15:26.207959Z",
     "start_time": "2022-05-12T09:15:26.186750Z"
    }
   },
   "outputs": [
    {
     "data": {
      "text/html": [
       "<div>\n",
       "<style scoped>\n",
       "    .dataframe tbody tr th:only-of-type {\n",
       "        vertical-align: middle;\n",
       "    }\n",
       "\n",
       "    .dataframe tbody tr th {\n",
       "        vertical-align: top;\n",
       "    }\n",
       "\n",
       "    .dataframe thead th {\n",
       "        text-align: right;\n",
       "    }\n",
       "</style>\n",
       "<table border=\"1\" class=\"dataframe\">\n",
       "  <thead>\n",
       "    <tr style=\"text-align: right;\">\n",
       "      <th></th>\n",
       "      <th>Tweet</th>\n",
       "      <th>credibility</th>\n",
       "      <th>tweetId</th>\n",
       "      <th>CR Fact</th>\n",
       "      <th>noteId</th>\n",
       "      <th>summary</th>\n",
       "      <th>classification</th>\n",
       "      <th>full_text</th>\n",
       "      <th>systemVerdict</th>\n",
       "    </tr>\n",
       "  </thead>\n",
       "  <tbody>\n",
       "    <tr>\n",
       "      <th>1</th>\n",
       "      <td>DONALD TRUMP WON THE 2020 ELECTION BY A LOT!\\n...</td>\n",
       "      <td>not_credible</td>\n",
       "      <td>1388990782015692810</td>\n",
       "      <td>['Donald Trump won the 2020 election, by a lot']</td>\n",
       "      <td>1389613071895711746</td>\n",
       "      <td>According to numerous independent sources, Tru...</td>\n",
       "      <td>MISINFORMED_OR_POTENTIALLY_MISLEADING</td>\n",
       "      <td>DONALD TRUMP WON THE 2020 ELECTION BY A LOT!\\n...</td>\n",
       "      <td>not_credible</td>\n",
       "    </tr>\n",
       "    <tr>\n",
       "      <th>27</th>\n",
       "      <td>There is zero evidence that Joe Biden won.\\nHe...</td>\n",
       "      <td>not_credible</td>\n",
       "      <td>1390712032136155143</td>\n",
       "      <td>['Donald Trump has won the re-election against...</td>\n",
       "      <td>1390723190746324992</td>\n",
       "      <td>According to numerous independent sources, Tru...</td>\n",
       "      <td>MISINFORMED_OR_POTENTIALLY_MISLEADING</td>\n",
       "      <td>There is zero evidence that Joe Biden won.\\nHe...</td>\n",
       "      <td>not_credible</td>\n",
       "    </tr>\n",
       "    <tr>\n",
       "      <th>44</th>\n",
       "      <td>@lavern_spicer Biden is not the president</td>\n",
       "      <td>not_credible</td>\n",
       "      <td>1360362892600758272</td>\n",
       "      <td>['Joe Biden is not president']</td>\n",
       "      <td>1360492055873658883</td>\n",
       "      <td>Joe Biden is President of the United States.</td>\n",
       "      <td>MISINFORMED_OR_POTENTIALLY_MISLEADING</td>\n",
       "      <td>@lavern_spicer Biden is not the president</td>\n",
       "      <td>not_credible</td>\n",
       "    </tr>\n",
       "    <tr>\n",
       "      <th>51</th>\n",
       "      <td>@Gcflyfshr @Oregonian Only n95 masks work. Got 1?</td>\n",
       "      <td>not_credible</td>\n",
       "      <td>1436661844408684553</td>\n",
       "      <td>['Carbon Filter Face Masks Prevent Coronavirus...</td>\n",
       "      <td>1436741695312334852</td>\n",
       "      <td>Cloth masks are effective to prevent the trans...</td>\n",
       "      <td>MISINFORMED_OR_POTENTIALLY_MISLEADING</td>\n",
       "      <td>@Gcflyfshr @Oregonian Only n95 masks work. Got 1?</td>\n",
       "      <td>not_credible</td>\n",
       "    </tr>\n",
       "    <tr>\n",
       "      <th>60</th>\n",
       "      <td>🚫BIDEN IS NOT THE PRESIDENT!!! ✅PRESIDENT DONA...</td>\n",
       "      <td>not_credible</td>\n",
       "      <td>1376658300285095939</td>\n",
       "      <td>['Donald Trump has won the re-election against...</td>\n",
       "      <td>1376667522380914689</td>\n",
       "      <td>According to numerous independent sources, Tru...</td>\n",
       "      <td>MISINFORMED_OR_POTENTIALLY_MISLEADING</td>\n",
       "      <td>🚫BIDEN IS NOT THE PRESIDENT!!! ✅PRESIDENT DONA...</td>\n",
       "      <td>not_credible</td>\n",
       "    </tr>\n",
       "    <tr>\n",
       "      <th>...</th>\n",
       "      <td>...</td>\n",
       "      <td>...</td>\n",
       "      <td>...</td>\n",
       "      <td>...</td>\n",
       "      <td>...</td>\n",
       "      <td>...</td>\n",
       "      <td>...</td>\n",
       "      <td>...</td>\n",
       "      <td>...</td>\n",
       "    </tr>\n",
       "    <tr>\n",
       "      <th>2987</th>\n",
       "      <td>If the vaccines work, then why is everyone sti...</td>\n",
       "      <td>uncertain</td>\n",
       "      <td>1418724887808679936</td>\n",
       "      <td>[\"A \\\"COVID-19 Vaccine Q&amp;A\\\" includes a series...</td>\n",
       "      <td>1418783199971393538</td>\n",
       "      <td>The COVID-19 virus is real.    1. https://www....</td>\n",
       "      <td>MISINFORMED_OR_POTENTIALLY_MISLEADING</td>\n",
       "      <td>If the “vaccines” work, then why is everyone s...</td>\n",
       "      <td>uncertain</td>\n",
       "    </tr>\n",
       "    <tr>\n",
       "      <th>2992</th>\n",
       "      <td>Are you sure you want your child to be vaccina...</td>\n",
       "      <td>not_credible</td>\n",
       "      <td>1428691435155513349</td>\n",
       "      <td>[\"Doctors have concerns about the mRNA vaccine...</td>\n",
       "      <td>1428925245285675008</td>\n",
       "      <td>The phrase &amp;quot;virtually no risk&amp;quot; is pr...</td>\n",
       "      <td>MISINFORMED_OR_POTENTIALLY_MISLEADING</td>\n",
       "      <td>Are you sure you want your child to be vaccina...</td>\n",
       "      <td>not_credible</td>\n",
       "    </tr>\n",
       "    <tr>\n",
       "      <th>2997</th>\n",
       "      <td>Hard to overstate how terrible it is for the @...</td>\n",
       "      <td>uncertain</td>\n",
       "      <td>1355565461870694405</td>\n",
       "      <td>[\"Julie Jenkins Fancelli, heiress to the Publi...</td>\n",
       "      <td>1355612959100334082</td>\n",
       "      <td>Alex Jones and Publix heiress did not fund the...</td>\n",
       "      <td>MISINFORMED_OR_POTENTIALLY_MISLEADING</td>\n",
       "      <td>Hard to overstate how terrible it is for the @...</td>\n",
       "      <td>uncertain</td>\n",
       "    </tr>\n",
       "    <tr>\n",
       "      <th>3001</th>\n",
       "      <td>Innocent people dont ask for pardons: https://...</td>\n",
       "      <td>not_credible</td>\n",
       "      <td>1379662222490705920</td>\n",
       "      <td>[\"\\\"Man pardoned by Obama three months ago arr...</td>\n",
       "      <td>1379824715645083655</td>\n",
       "      <td>no proof of this claim.  president trump issue...</td>\n",
       "      <td>MISINFORMED_OR_POTENTIALLY_MISLEADING</td>\n",
       "      <td>Innocent people don’t ask for pardons: https:/...</td>\n",
       "      <td>not_credible</td>\n",
       "    </tr>\n",
       "    <tr>\n",
       "      <th>3011</th>\n",
       "      <td>246 fully vaccinated Michiganders got COVID-19...</td>\n",
       "      <td>uncertain</td>\n",
       "      <td>1379458652323639300</td>\n",
       "      <td>[\"Four states have stopped administering the J...</td>\n",
       "      <td>1380365994611335169</td>\n",
       "      <td>As of 4/7/21 1.8 million Michigan residents ha...</td>\n",
       "      <td>MISINFORMED_OR_POTENTIALLY_MISLEADING</td>\n",
       "      <td>246 fully vaccinated Michiganders got COVID-19...</td>\n",
       "      <td>uncertain</td>\n",
       "    </tr>\n",
       "  </tbody>\n",
       "</table>\n",
       "<p>366 rows × 9 columns</p>\n",
       "</div>"
      ],
      "text/plain": [
       "                                                  Tweet   credibility  \\\n",
       "1     DONALD TRUMP WON THE 2020 ELECTION BY A LOT!\\n...  not_credible   \n",
       "27    There is zero evidence that Joe Biden won.\\nHe...  not_credible   \n",
       "44            @lavern_spicer Biden is not the president  not_credible   \n",
       "51    @Gcflyfshr @Oregonian Only n95 masks work. Got 1?  not_credible   \n",
       "60    🚫BIDEN IS NOT THE PRESIDENT!!! ✅PRESIDENT DONA...  not_credible   \n",
       "...                                                 ...           ...   \n",
       "2987  If the vaccines work, then why is everyone sti...     uncertain   \n",
       "2992  Are you sure you want your child to be vaccina...  not_credible   \n",
       "2997  Hard to overstate how terrible it is for the @...     uncertain   \n",
       "3001  Innocent people dont ask for pardons: https://...  not_credible   \n",
       "3011  246 fully vaccinated Michiganders got COVID-19...     uncertain   \n",
       "\n",
       "                  tweetId                                            CR Fact  \\\n",
       "1     1388990782015692810   ['Donald Trump won the 2020 election, by a lot']   \n",
       "27    1390712032136155143  ['Donald Trump has won the re-election against...   \n",
       "44    1360362892600758272                     ['Joe Biden is not president']   \n",
       "51    1436661844408684553  ['Carbon Filter Face Masks Prevent Coronavirus...   \n",
       "60    1376658300285095939  ['Donald Trump has won the re-election against...   \n",
       "...                   ...                                                ...   \n",
       "2987  1418724887808679936  [\"A \\\"COVID-19 Vaccine Q&A\\\" includes a series...   \n",
       "2992  1428691435155513349  [\"Doctors have concerns about the mRNA vaccine...   \n",
       "2997  1355565461870694405  [\"Julie Jenkins Fancelli, heiress to the Publi...   \n",
       "3001  1379662222490705920  [\"\\\"Man pardoned by Obama three months ago arr...   \n",
       "3011  1379458652323639300  [\"Four states have stopped administering the J...   \n",
       "\n",
       "                   noteId                                            summary  \\\n",
       "1     1389613071895711746  According to numerous independent sources, Tru...   \n",
       "27    1390723190746324992  According to numerous independent sources, Tru...   \n",
       "44    1360492055873658883       Joe Biden is President of the United States.   \n",
       "51    1436741695312334852  Cloth masks are effective to prevent the trans...   \n",
       "60    1376667522380914689  According to numerous independent sources, Tru...   \n",
       "...                   ...                                                ...   \n",
       "2987  1418783199971393538  The COVID-19 virus is real.    1. https://www....   \n",
       "2992  1428925245285675008  The phrase &quot;virtually no risk&quot; is pr...   \n",
       "2997  1355612959100334082  Alex Jones and Publix heiress did not fund the...   \n",
       "3001  1379824715645083655  no proof of this claim.  president trump issue...   \n",
       "3011  1380365994611335169  As of 4/7/21 1.8 million Michigan residents ha...   \n",
       "\n",
       "                             classification  \\\n",
       "1     MISINFORMED_OR_POTENTIALLY_MISLEADING   \n",
       "27    MISINFORMED_OR_POTENTIALLY_MISLEADING   \n",
       "44    MISINFORMED_OR_POTENTIALLY_MISLEADING   \n",
       "51    MISINFORMED_OR_POTENTIALLY_MISLEADING   \n",
       "60    MISINFORMED_OR_POTENTIALLY_MISLEADING   \n",
       "...                                     ...   \n",
       "2987  MISINFORMED_OR_POTENTIALLY_MISLEADING   \n",
       "2992  MISINFORMED_OR_POTENTIALLY_MISLEADING   \n",
       "2997  MISINFORMED_OR_POTENTIALLY_MISLEADING   \n",
       "3001  MISINFORMED_OR_POTENTIALLY_MISLEADING   \n",
       "3011  MISINFORMED_OR_POTENTIALLY_MISLEADING   \n",
       "\n",
       "                                              full_text systemVerdict  \n",
       "1     DONALD TRUMP WON THE 2020 ELECTION BY A LOT!\\n...  not_credible  \n",
       "27    There is zero evidence that Joe Biden won.\\nHe...  not_credible  \n",
       "44            @lavern_spicer Biden is not the president  not_credible  \n",
       "51    @Gcflyfshr @Oregonian Only n95 masks work. Got 1?  not_credible  \n",
       "60    🚫BIDEN IS NOT THE PRESIDENT!!! ✅PRESIDENT DONA...  not_credible  \n",
       "...                                                 ...           ...  \n",
       "2987  If the “vaccines” work, then why is everyone s...     uncertain  \n",
       "2992  Are you sure you want your child to be vaccina...  not_credible  \n",
       "2997  Hard to overstate how terrible it is for the @...     uncertain  \n",
       "3001  Innocent people don’t ask for pardons: https:/...  not_credible  \n",
       "3011  246 fully vaccinated Michiganders got COVID-19...     uncertain  \n",
       "\n",
       "[366 rows x 9 columns]"
      ]
     },
     "execution_count": 160,
     "metadata": {},
     "output_type": "execute_result"
    }
   ],
   "source": [
    "s[s.credibility==s.systemVerdict]"
   ]
  },
  {
   "cell_type": "code",
   "execution_count": 41,
   "metadata": {
    "ExecuteTime": {
     "end_time": "2022-05-15T16:23:35.764363Z",
     "start_time": "2022-05-15T16:23:35.758184Z"
    }
   },
   "outputs": [
    {
     "data": {
      "text/plain": [
       "369"
      ]
     },
     "execution_count": 41,
     "metadata": {},
     "output_type": "execute_result"
    }
   ],
   "source": [
    "sum(s.credibility==s.systemVerdict)"
   ]
  },
  {
   "cell_type": "code",
   "execution_count": 42,
   "metadata": {
    "ExecuteTime": {
     "end_time": "2022-05-15T16:23:38.114605Z",
     "start_time": "2022-05-15T16:23:38.110458Z"
    }
   },
   "outputs": [
    {
     "data": {
      "text/plain": [
       "1839"
      ]
     },
     "execution_count": 42,
     "metadata": {},
     "output_type": "execute_result"
    }
   ],
   "source": [
    "sum(s.credibility!=s.systemVerdict)"
   ]
  },
  {
   "cell_type": "code",
   "execution_count": 153,
   "metadata": {
    "ExecuteTime": {
     "end_time": "2022-05-12T09:14:33.959026Z",
     "start_time": "2022-05-12T09:14:33.953524Z"
    }
   },
   "outputs": [
    {
     "data": {
      "text/plain": [
       "1823"
      ]
     },
     "execution_count": 153,
     "metadata": {},
     "output_type": "execute_result"
    }
   ],
   "source": [
    "sum(s.credibility!=s.systemVerdict)"
   ]
  },
  {
   "cell_type": "code",
   "execution_count": 43,
   "metadata": {
    "ExecuteTime": {
     "end_time": "2022-05-15T16:23:43.775211Z",
     "start_time": "2022-05-15T16:23:43.760570Z"
    }
   },
   "outputs": [
    {
     "data": {
      "text/plain": [
       "1780"
      ]
     },
     "execution_count": 43,
     "metadata": {},
     "output_type": "execute_result"
    }
   ],
   "source": [
    "sum(s.dropna().credibility!=s.dropna().systemVerdict)"
   ]
  },
  {
   "cell_type": "code",
   "execution_count": 154,
   "metadata": {
    "ExecuteTime": {
     "end_time": "2022-05-12T09:14:39.731414Z",
     "start_time": "2022-05-12T09:14:39.721075Z"
    }
   },
   "outputs": [
    {
     "data": {
      "text/plain": [
       "1765"
      ]
     },
     "execution_count": 154,
     "metadata": {},
     "output_type": "execute_result"
    }
   ],
   "source": [
    "sum(s.dropna().credibility!=s.dropna().systemVerdict)"
   ]
  },
  {
   "cell_type": "code",
   "execution_count": 68,
   "metadata": {
    "ExecuteTime": {
     "end_time": "2022-01-20T12:39:45.848537Z",
     "start_time": "2022-01-20T12:39:45.834059Z"
    }
   },
   "outputs": [
    {
     "data": {
      "text/plain": [
       "18"
      ]
     },
     "execution_count": 68,
     "metadata": {},
     "output_type": "execute_result"
    }
   ],
   "source": [
    "len(s)-len(s.systemVerdict.dropna())"
   ]
  },
  {
   "cell_type": "code",
   "execution_count": 44,
   "metadata": {
    "ExecuteTime": {
     "end_time": "2022-05-15T16:23:50.765746Z",
     "start_time": "2022-05-15T16:23:50.760330Z"
    }
   },
   "outputs": [
    {
     "data": {
      "text/plain": [
       "59"
      ]
     },
     "execution_count": 44,
     "metadata": {},
     "output_type": "execute_result"
    }
   ],
   "source": [
    "len(s)-len(s.systemVerdict.dropna())"
   ]
  },
  {
   "cell_type": "code",
   "execution_count": 156,
   "metadata": {
    "ExecuteTime": {
     "end_time": "2022-05-12T09:14:50.704642Z",
     "start_time": "2022-05-12T09:14:50.699408Z"
    }
   },
   "outputs": [
    {
     "data": {
      "text/plain": [
       "not_credible       1820\n",
       "uncertain           170\n",
       "credible            143\n",
       "mostly_credible      56\n",
       "Name: credibility, dtype: int64"
      ]
     },
     "execution_count": 156,
     "metadata": {},
     "output_type": "execute_result"
    }
   ],
   "source": [
    "s.credibility.value_counts()"
   ]
  },
  {
   "cell_type": "code",
   "execution_count": 157,
   "metadata": {
    "ExecuteTime": {
     "end_time": "2022-05-12T09:14:58.802696Z",
     "start_time": "2022-05-12T09:14:58.795828Z"
    }
   },
   "outputs": [
    {
     "data": {
      "text/plain": [
       "MISINFORMED_OR_POTENTIALLY_MISLEADING    2009\n",
       "NOT_MISLEADING                             93\n",
       "Tie                                        87\n",
       "Name: classification, dtype: int64"
      ]
     },
     "execution_count": 157,
     "metadata": {},
     "output_type": "execute_result"
    }
   ],
   "source": [
    "s.classification.value_counts()"
   ]
  }
 ],
 "metadata": {
  "kernelspec": {
   "display_name": "fact_check",
   "language": "python",
   "name": "fact_check"
  },
  "language_info": {
   "codemirror_mode": {
    "name": "ipython",
    "version": 3
   },
   "file_extension": ".py",
   "mimetype": "text/x-python",
   "name": "python",
   "nbconvert_exporter": "python",
   "pygments_lexer": "ipython3",
   "version": "3.6.9"
  },
  "toc": {
   "base_numbering": 1,
   "nav_menu": {},
   "number_sections": true,
   "sideBar": true,
   "skip_h1_title": false,
   "title_cell": "Table of Contents",
   "title_sidebar": "Contents",
   "toc_cell": false,
   "toc_position": {},
   "toc_section_display": true,
   "toc_window_display": false
  }
 },
 "nbformat": 4,
 "nbformat_minor": 4
}
