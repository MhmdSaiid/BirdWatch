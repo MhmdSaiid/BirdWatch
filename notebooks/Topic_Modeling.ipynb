{
 "cells": [
  {
   "cell_type": "code",
   "execution_count": null,
   "metadata": {
    "id": "BSTsKMhqFMnF"
   },
   "outputs": [],
   "source": [
    "from bertopic import BERTopic\n",
    "from collections import Counter\n",
    "import datetime\n",
    "import numpy as np\n",
    "import pandas as pd\n",
    "import seaborn as sns\n",
    "import matplotlib.pyplot as plt"
   ]
  },
  {
   "cell_type": "code",
   "execution_count": null,
   "metadata": {
    "id": "DkSkr7Ce2ZZ9"
   },
   "outputs": [],
   "source": [
    "en_BW = pd.read_csv('../data/BW_tweets_all_Topic.csv')\n",
    "docs = list(en_BW.joined_text)\n",
    "\n",
    "hydratedFile = pd.read_json('../data/idtweetVALUES.jsonl',lines=True)\n",
    "notes = pd.read_csv('../data/notes-00000.tsv',delimiter='\\t')"
   ]
  },
  {
   "cell_type": "code",
   "execution_count": null,
   "metadata": {
    "id": "-pCb4LZ1G1hs"
   },
   "outputs": [],
   "source": [
    "topic_model = BERTopic(language=\"english\", calculate_probabilities=True, verbose=True)\n",
    "topic_model=topic_model.load('../model/BW_BertTopic.model')"
   ]
  },
  {
   "cell_type": "code",
   "execution_count": null,
   "metadata": {
    "id": "mzUxlnEWot21"
   },
   "outputs": [],
   "source": [
    "def GetTopicDict(file='../data/Manual_Topic_Label_Done.csv'):\n",
    "    df = pd.read_csv(file)\n",
    "    d = dict(zip(df['Topic ID'],df['Generic Label']))\n",
    "    return d\n",
    "TopicId2Label=GetTopicDict()"
   ]
  },
  {
   "cell_type": "code",
   "execution_count": null,
   "metadata": {
    "id": "SRcI1AVC65q6"
   },
   "outputs": [],
   "source": [
    "hts=list(set(hydratedFile.id))\n",
    "BW_tweets = list(set(notes.tweetId))"
   ]
  },
  {
   "cell_type": "code",
   "execution_count": null,
   "metadata": {
    "id": "tja--E-G84wo"
   },
   "outputs": [],
   "source": [
    "hydratedFile['Month Name']= hydratedFile['created_at'].apply(lambda x: x.month_name())\n",
    "hydratedFile['Month']= hydratedFile['created_at'].apply(lambda x: x.month)\n",
    "hydratedFile['Year']= hydratedFile['created_at'].apply(lambda x: x.year)\n",
    "hydratedFile['created_at'].apply(lambda x: x.year).value_counts()"
   ]
  },
  {
   "cell_type": "code",
   "execution_count": null,
   "metadata": {
    "id": "giF6OloV8_Lr"
   },
   "outputs": [],
   "source": [
    "docs = list(hydratedFile.full_text)\n",
    "docs = [str(x) for x in docs]"
   ]
  },
  {
   "cell_type": "code",
   "execution_count": null,
   "metadata": {
    "id": "_0dfpyv_9SFy"
   },
   "outputs": [],
   "source": [
    "predicted_topics,_ = topic_model.transform(docs)\n",
    "predicted_topic_names=[TopicId2Label[x] for x in  predicted_topics]"
   ]
  },
  {
   "cell_type": "code",
   "execution_count": null,
   "metadata": {
    "id": "ZseSlz6eawTZ"
   },
   "outputs": [],
   "source": [
    "en_BW['Topic']=predicted_topic_names"
   ]
  },
  {
   "cell_type": "code",
   "execution_count": null,
   "metadata": {
    "id": "ad2-PEhca0ZM"
   },
   "outputs": [],
   "source": [
    "en_BW.to_csv('CR_Updated_Topic_Predicted.csv',index=False)"
   ]
  },
  {
   "cell_type": "code",
   "execution_count": null,
   "metadata": {
    "id": "uPljlG2W4UgL"
   },
   "outputs": [],
   "source": [
    "hydratedFile['Topic']=predicted_topic_names\n",
    "hf_df = hydratedFile[['Topic','Month','Year']]\n",
    "hf_df=hf_df[hf_df.Year==2021]\n",
    "hf_df=hf_df[hf_df.Topic !='Outlier']"
   ]
  },
  {
   "cell_type": "code",
   "execution_count": null,
   "metadata": {
    "id": "0htpog8c9mb5"
   },
   "outputs": [],
   "source": [
    "\n",
    "sns.set_theme(style=\"white\", rc={\"axes.facecolor\": (0, 0, 0, 0)})\n",
    "\n",
    "# Initialize the FacetGrid object\n",
    "pal = sns.cubehelix_palette(10, rot=-.25, light=.7)\n",
    "g = sns.FacetGrid(hf_df, row=\"Topic\", hue=\"Topic\", aspect=15, height=.85, palette=pal)\n",
    "\n",
    "# Draw the densities in a few steps\n",
    "g.map(sns.kdeplot, \"Month\",\n",
    "       clip_on=False,bw_adjust=.5,\n",
    "      fill=True, alpha=1, linewidth=1.5)\n",
    "g.map(sns.kdeplot, \"Month\", clip_on=False,bw_adjust=.5, color=\"w\", lw=2)\n",
    "\n",
    "# passing color=None to refline() uses the hue mapping\n",
    "g.refline(y=0, linewidth=2, linestyle=\"-\", color=None, clip_on=False)\n",
    "\n",
    "\n",
    "# Define and use a simple function to label the plot in axes coordinates\n",
    "def label(x, color, label):\n",
    "    ax = plt.gca()\n",
    "    ax.text(0, .2, label, fontweight=\"bold\", color=color,\n",
    "            ha=\"left\", va=\"center\", transform=ax.transAxes)\n",
    "\n",
    "g.map(label, \"Month\")\n",
    "\n",
    "# Set the subplots to overlap\n",
    "g.figure.subplots_adjust(hspace=-.25)\n",
    "# Remove axes details that don't play well with overlap\n",
    "g.set_titles(\"\")\n",
    "g.set(yticks=[], ylabel=\"\")\n",
    "g.despine(bottom=True, left=True)"
   ]
  },
  {
   "cell_type": "markdown",
   "metadata": {
    "id": "YpNKmw8f-1ho"
   },
   "source": [
    "# Claim Review Topic Distribution\n"
   ]
  },
  {
   "cell_type": "code",
   "execution_count": null,
   "metadata": {
    "id": "_ZwrLJS0-7CH"
   },
   "outputs": [],
   "source": [
    "claim_review_file = \"../data/UpdatedClaimReview/2022_01_14/claim_reviews.json\"\n",
    "facts = pd.read_json(claim_review_file)"
   ]
  },
  {
   "cell_type": "code",
   "execution_count": null,
   "metadata": {
    "id": "hDGLE2v3AtPz"
   },
   "outputs": [],
   "source": [
    "facts['CR_time']=facts.reviews.apply(lambda x: list(set([xx['date_published'] for xx in x]))[0])\n",
    "facts['text']=facts.claim_text.apply(lambda x:\" \".join(x))\n",
    "facts = facts.drop_duplicates(subset=['text'])\n",
    "facts=facts.dropna()"
   ]
  },
  {
   "cell_type": "code",
   "execution_count": null,
   "metadata": {
    "id": "z3QlX8qNByKX"
   },
   "outputs": [],
   "source": [
    "len(facts)"
   ]
  },
  {
   "cell_type": "code",
   "execution_count": null,
   "metadata": {
    "id": "HhT_FG1qC0Uf"
   },
   "outputs": [],
   "source": [
    "facts['Month']=facts.CR_time.apply(lambda x:datetime.datetime.strptime(x,'%Y-%m-%d').month  if x else np.nan)\n",
    "facts['Year']=facts.CR_time.apply(lambda x:datetime.datetime.strptime(x,'%Y-%m-%d').year if x else np.nan )"
   ]
  },
  {
   "cell_type": "code",
   "execution_count": null,
   "metadata": {
    "id": "PBeGXYcaDyLn"
   },
   "outputs": [],
   "source": [
    "facts['Year'].value_counts()"
   ]
  },
  {
   "cell_type": "code",
   "execution_count": null,
   "metadata": {
    "id": "jwsu0etP_t1o"
   },
   "outputs": [],
   "source": [
    "docs = list(facts['text'])\n",
    "predicted_topics,_ = topic_model.transform(docs)\n",
    "predicted_topic_names=[TopicId2Label[x] for x in  predicted_topics]\n",
    "facts['Topic']=predicted_topic_names"
   ]
  },
  {
   "cell_type": "code",
   "execution_count": null,
   "metadata": {
    "id": "LPmWh73jFo4V"
   },
   "outputs": [],
   "source": [
    "\n",
    "sns.set_theme(style=\"white\", rc={\"axes.facecolor\": (0, 0, 0, 0)})\n",
    "\n",
    "\n",
    "for year in [2021]:#[2017,2018,2019,2020,2021]:\n",
    "    d=facts[facts.Year==year]\n",
    "    hf_df = d[['Topic','Month']]\n",
    "    hf_df=hf_df[hf_df.Topic!='Outlier']\n",
    "    hf_df_2 = hf_df[hf_df.apply(lambda x: True if x.Topic in['Health','Politics','Social Media','Economy','Society','Country','Sports'] else False,axis=1)]\n",
    "\n",
    "    # Initialize the FacetGrid object\n",
    "    pal = sns.cubehelix_palette(10, rot=-.25, light=.7)\n",
    "    g = sns.FacetGrid(hf_df_2, row=\"Topic\", hue=\"Topic\", aspect=15, height=.85, palette=pal)\n",
    "\n",
    "    # Draw the densities in a few steps\n",
    "    g.map(sns.kdeplot, \"Month\",\n",
    "        clip_on=False,bw_adjust=.5,\n",
    "        fill=True, alpha=1, linewidth=1.5)\n",
    "    g.map(sns.kdeplot, \"Month\", clip_on=False,bw_adjust=.5, color=\"w\", lw=2)\n",
    "\n",
    "    # passing color=None to refline() uses the hue mapping\n",
    "    g.refline(y=0, linewidth=2, linestyle=\"-\", color=None, clip_on=False)\n",
    "\n",
    "\n",
    "    # Define and use a simple function to label the plot in axes coordinates\n",
    "    def label(x, color, label):\n",
    "        ax = plt.gca()\n",
    "        ax.text(0, .2, label, fontweight=\"bold\", color=color,\n",
    "              ha=\"left\", va=\"center\", transform=ax.transAxes)\n",
    "\n",
    "\n",
    "    g.map(label, \"Month\")\n",
    "    g.fig.suptitle('Claim Review 2021')\n",
    "\n",
    "    # Set the subplots to overlap\n",
    "    g.figure.subplots_adjust(hspace=-.25)\n",
    "    # Remove axes details that don't play well with overlap\n",
    "    g.set_titles(\"\")\n",
    "    g.set(yticks=[], ylabel=\"\")\n",
    "    for ax in g.axes.flat:\n",
    "        ax.set_xticks(range(15))\n",
    "        ax.set_xticklabels(['','Jan','Feb','Mar','Apr','May','June','July','Aug','Sep','Oct','Nov','Dec','',''])\n",
    "        #ax.set_xticklabels(['','Jan','Feb','Mar','Apr','','','','','','','','','',''])\n",
    "    g.despine(bottom=True, left=True)"
   ]
  },
  {
   "cell_type": "markdown",
   "metadata": {
    "id": "BWFqUr_C4VzE"
   },
   "source": [
    "# Training + Visualisation"
   ]
  },
  {
   "cell_type": "code",
   "execution_count": null,
   "metadata": {
    "id": "l3o3QVQ9yX4f"
   },
   "outputs": [],
   "source": [
    "en_BW=pd.read_csv('../data/BW_tweets_all_Topic.csv')\n",
    "docs = list(en_BW.full_text)"
   ]
  },
  {
   "cell_type": "code",
   "execution_count": null,
   "metadata": {
    "id": "W3PV_ffHygdW"
   },
   "outputs": [],
   "source": [
    "topic_model = BERTopic(language=\"english\", calculate_probabilities=True, verbose=True)"
   ]
  },
  {
   "cell_type": "code",
   "execution_count": null,
   "metadata": {
    "id": "O0CdSNcxE8gw"
   },
   "outputs": [],
   "source": [
    "topics, probs = topic_model.fit_transform(docs)"
   ]
  },
  {
   "cell_type": "code",
   "execution_count": null,
   "metadata": {
    "id": "dfPvLOzWajES"
   },
   "outputs": [],
   "source": [
    "topic_model.save(\"../model/BW_BertTopic.model\")"
   ]
  },
  {
   "cell_type": "code",
   "execution_count": null,
   "metadata": {
    "id": "nkKnIHNc7wZs"
   },
   "outputs": [],
   "source": [
    "topic_model.visualize_barchart()"
   ]
  },
  {
   "cell_type": "code",
   "execution_count": null,
   "metadata": {
    "id": "BkR2UADmGPZZ"
   },
   "outputs": [],
   "source": [
    "topic_model.get_topic(2)"
   ]
  },
  {
   "cell_type": "code",
   "execution_count": null,
   "metadata": {
    "id": "pbbqehEwE271"
   },
   "outputs": [],
   "source": [
    "freq = topic_model.get_topic_info(); freq.head(10)"
   ]
  },
  {
   "cell_type": "code",
   "execution_count": null,
   "metadata": {
    "id": "ggHaPwI8HHEV"
   },
   "outputs": [],
   "source": [
    "topic_model.get_topic(0) "
   ]
  },
  {
   "cell_type": "code",
   "execution_count": null,
   "metadata": {
    "id": "gbbueWqDHpqi"
   },
   "outputs": [],
   "source": [
    "topic_model.visualize_topics()"
   ]
  },
  {
   "cell_type": "code",
   "execution_count": null,
   "metadata": {
    "id": "6MhBybBKIJC-"
   },
   "outputs": [],
   "source": [
    "topic_model.visualize_distribution(probs[0], min_probability=0.015)"
   ]
  },
  {
   "cell_type": "code",
   "execution_count": null,
   "metadata": {
    "id": "z5tt3kP8Ipdx"
   },
   "outputs": [],
   "source": [
    "topic_model.visualize_hierarchy(top_n_topics=50)"
   ]
  },
  {
   "cell_type": "code",
   "execution_count": null,
   "metadata": {
    "id": "IOa9pYBeJL8p"
   },
   "outputs": [],
   "source": [
    "topic_model.visualize_barchart(top_n_topics=10)"
   ]
  },
  {
   "cell_type": "code",
   "execution_count": null,
   "metadata": {
    "id": "J5HeUxkmJZwG"
   },
   "outputs": [],
   "source": [
    "topic_model.visualize_heatmap(n_clusters=20, width=1000, height=1000)"
   ]
  }
 ],
 "metadata": {
  "accelerator": "GPU",
  "colab": {
   "collapsed_sections": [],
   "provenance": []
  },
  "kernelspec": {
   "display_name": "Python 3",
   "language": "python",
   "name": "python3"
  },
  "language_info": {
   "codemirror_mode": {
    "name": "ipython",
    "version": 3
   },
   "file_extension": ".py",
   "mimetype": "text/x-python",
   "name": "python",
   "nbconvert_exporter": "python",
   "pygments_lexer": "ipython3",
   "version": "3.7.4"
  },
  "toc": {
   "base_numbering": 1,
   "nav_menu": {},
   "number_sections": true,
   "sideBar": true,
   "skip_h1_title": false,
   "title_cell": "Table of Contents",
   "title_sidebar": "Contents",
   "toc_cell": false,
   "toc_position": {},
   "toc_section_display": true,
   "toc_window_display": false
  }
 },
 "nbformat": 4,
 "nbformat_minor": 1
}
