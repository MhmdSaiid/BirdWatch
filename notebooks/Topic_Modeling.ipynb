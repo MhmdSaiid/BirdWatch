{
 "cells": [
  {
   "cell_type": "code",
   "execution_count": null,
   "source": [
    "from bertopic import BERTopic\n",
    "from collections import Counter\n",
    "import datetime\n",
    "import numpy as np\n",
    "import pandas as pd\n",
    "import seaborn as sns\n",
    "import matplotlib.pyplot as plt"
   ],
   "outputs": [],
   "metadata": {
    "id": "BSTsKMhqFMnF"
   }
  },
  {
   "cell_type": "code",
   "execution_count": null,
   "source": [
    "en_BW = pd.read_csv('../data/BW_tweets_all_Topic.csv')\n",
    "docs = list(en_BW.full_text)\n",
    "\n",
    "hydratedFile = pd.read_json('../data/idtweetVALUES.jsonl',lines=True)\n",
    "notes = pd.read_csv('../data/notes-00000.tsv',delimiter='\\t')"
   ],
   "outputs": [],
   "metadata": {
    "id": "DkSkr7Ce2ZZ9"
   }
  },
  {
   "cell_type": "code",
   "execution_count": null,
   "source": [
    "topic_model = BERTopic(language=\"english\", calculate_probabilities=True, verbose=True)\n",
    "topic_model=topic_model.load('../model/BW_BertTopic.model')"
   ],
   "outputs": [],
   "metadata": {
    "id": "-pCb4LZ1G1hs"
   }
  },
  {
   "cell_type": "code",
   "execution_count": null,
   "source": [
    "def GetTopicDict(file='../data/Manual_Topic_Label_Done.csv'):\n",
    "    df = pd.read_csv(file)\n",
    "    d = dict(zip(df['Topic ID'],df['Generic Label']))\n",
    "    return d\n",
    "TopicId2Label=GetTopicDict()"
   ],
   "outputs": [],
   "metadata": {
    "id": "mzUxlnEWot21"
   }
  },
  {
   "cell_type": "code",
   "execution_count": null,
   "source": [
    "hts=list(set(hydratedFile.id))\n",
    "BW_tweets = list(set(notes.tweetId))"
   ],
   "outputs": [],
   "metadata": {
    "id": "SRcI1AVC65q6"
   }
  },
  {
   "cell_type": "code",
   "execution_count": null,
   "source": [
    "hydratedFile['Month Name']= hydratedFile['created_at'].apply(lambda x: x.month_name())\n",
    "hydratedFile['Month']= hydratedFile['created_at'].apply(lambda x: x.month)\n",
    "hydratedFile['Year']= hydratedFile['created_at'].apply(lambda x: x.year)\n",
    "hydratedFile['created_at'].apply(lambda x: x.year).value_counts()"
   ],
   "outputs": [],
   "metadata": {
    "id": "tja--E-G84wo"
   }
  },
  {
   "cell_type": "code",
   "execution_count": null,
   "source": [
    "docs = list(hydratedFile.full_text)\n",
    "docs = [str(x) for x in docs]"
   ],
   "outputs": [],
   "metadata": {
    "id": "giF6OloV8_Lr"
   }
  },
  {
   "cell_type": "code",
   "execution_count": null,
   "source": [
    "predicted_topics,_ = topic_model.transform(docs)\n",
    "predicted_topic_names=[TopicId2Label[x] for x in  predicted_topics]"
   ],
   "outputs": [],
   "metadata": {
    "id": "_0dfpyv_9SFy"
   }
  },
  {
   "cell_type": "code",
   "execution_count": null,
   "source": [
    "en_BW['Topic']=predicted_topic_names"
   ],
   "outputs": [],
   "metadata": {
    "id": "ZseSlz6eawTZ"
   }
  },
  {
   "cell_type": "code",
   "execution_count": null,
   "source": [
    "en_BW.to_csv('CR_Updated_Topic_Predicted.csv',index=False)"
   ],
   "outputs": [],
   "metadata": {
    "id": "ad2-PEhca0ZM"
   }
  },
  {
   "cell_type": "code",
   "execution_count": null,
   "source": [
    "hydratedFile['Topic']=predicted_topic_names\n",
    "hf_df = hydratedFile[['Topic','Month','Year']]\n",
    "hf_df=hf_df[hf_df.Year==2021]\n",
    "hf_df=hf_df[hf_df.Topic !='Outlier']"
   ],
   "outputs": [],
   "metadata": {
    "id": "uPljlG2W4UgL"
   }
  },
  {
   "cell_type": "code",
   "execution_count": null,
   "source": [
    "\n",
    "sns.set_theme(style=\"white\", rc={\"axes.facecolor\": (0, 0, 0, 0)})\n",
    "\n",
    "# Initialize the FacetGrid object\n",
    "pal = sns.cubehelix_palette(10, rot=-.25, light=.7)\n",
    "g = sns.FacetGrid(hf_df, row=\"Topic\", hue=\"Topic\", aspect=15, height=.85, palette=pal)\n",
    "\n",
    "# Draw the densities in a few steps\n",
    "g.map(sns.kdeplot, \"Month\",\n",
    "       clip_on=False,bw_adjust=.5,\n",
    "      fill=True, alpha=1, linewidth=1.5)\n",
    "g.map(sns.kdeplot, \"Month\", clip_on=False,bw_adjust=.5, color=\"w\", lw=2)\n",
    "\n",
    "# passing color=None to refline() uses the hue mapping\n",
    "g.refline(y=0, linewidth=2, linestyle=\"-\", color=None, clip_on=False)\n",
    "\n",
    "\n",
    "# Define and use a simple function to label the plot in axes coordinates\n",
    "def label(x, color, label):\n",
    "    ax = plt.gca()\n",
    "    ax.text(0, .2, label, fontweight=\"bold\", color=color,\n",
    "            ha=\"left\", va=\"center\", transform=ax.transAxes)\n",
    "\n",
    "g.map(label, \"Month\")\n",
    "\n",
    "# Set the subplots to overlap\n",
    "g.figure.subplots_adjust(hspace=-.25)\n",
    "# Remove axes details that don't play well with overlap\n",
    "g.set_titles(\"\")\n",
    "g.set(yticks=[], ylabel=\"\")\n",
    "g.despine(bottom=True, left=True)"
   ],
   "outputs": [],
   "metadata": {
    "id": "0htpog8c9mb5"
   }
  },
  {
   "cell_type": "markdown",
   "source": [
    "# Claim Review Topic Distribution\n"
   ],
   "metadata": {
    "id": "YpNKmw8f-1ho"
   }
  },
  {
   "cell_type": "code",
   "execution_count": null,
   "source": [
    "claim_review_file = \"../data/UpdatedClaimReview/2022_01_14/claim_reviews.json\"\n",
    "facts = pd.read_json(claim_review_file)"
   ],
   "outputs": [],
   "metadata": {
    "id": "_ZwrLJS0-7CH"
   }
  },
  {
   "cell_type": "code",
   "execution_count": null,
   "source": [
    "facts['CR_time']=facts.reviews.apply(lambda x: list(set([xx['date_published'] for xx in x]))[0])\n",
    "facts['text']=facts.claim_text.apply(lambda x:\" \".join(x))\n",
    "facts = facts.drop_duplicates(subset=['text'])\n",
    "facts=facts.dropna()"
   ],
   "outputs": [],
   "metadata": {
    "id": "hDGLE2v3AtPz"
   }
  },
  {
   "cell_type": "code",
   "execution_count": null,
   "source": [
    "len(facts)"
   ],
   "outputs": [],
   "metadata": {
    "id": "z3QlX8qNByKX"
   }
  },
  {
   "cell_type": "code",
   "execution_count": null,
   "source": [
    "facts['Month']=facts.CR_time.apply(lambda x:datetime.datetime.strptime(x,'%Y-%m-%d').month  if x else np.nan)\n",
    "facts['Year']=facts.CR_time.apply(lambda x:datetime.datetime.strptime(x,'%Y-%m-%d').year if x else np.nan )"
   ],
   "outputs": [],
   "metadata": {
    "id": "HhT_FG1qC0Uf"
   }
  },
  {
   "cell_type": "code",
   "execution_count": null,
   "source": [
    "facts['Year'].value_counts()"
   ],
   "outputs": [],
   "metadata": {
    "id": "PBeGXYcaDyLn"
   }
  },
  {
   "cell_type": "code",
   "execution_count": null,
   "source": [
    "docs = list(facts['text'])\n",
    "predicted_topics,_ = topic_model.transform(docs)\n",
    "predicted_topic_names=[TopicId2Label[x] for x in  predicted_topics]\n",
    "facts['Topic']=predicted_topic_names"
   ],
   "outputs": [],
   "metadata": {
    "id": "jwsu0etP_t1o"
   }
  },
  {
   "cell_type": "code",
   "execution_count": null,
   "source": [
    "\n",
    "sns.set_theme(style=\"white\", rc={\"axes.facecolor\": (0, 0, 0, 0)})\n",
    "\n",
    "\n",
    "for year in [2021]:#[2017,2018,2019,2020,2021]:\n",
    "    d=facts[facts.Year==year]\n",
    "    hf_df = d[['Topic','Month']]\n",
    "    hf_df=hf_df[hf_df.Topic!='Outlier']\n",
    "    hf_df_2 = hf_df[hf_df.apply(lambda x: True if x.Topic in['Health','Politics','Social Media','Economy','Society','Country','Sports'] else False,axis=1)]\n",
    "\n",
    "    # Initialize the FacetGrid object\n",
    "    pal = sns.cubehelix_palette(10, rot=-.25, light=.7)\n",
    "    g = sns.FacetGrid(hf_df_2, row=\"Topic\", hue=\"Topic\", aspect=15, height=.85, palette=pal)\n",
    "\n",
    "    # Draw the densities in a few steps\n",
    "    g.map(sns.kdeplot, \"Month\",\n",
    "        clip_on=False,bw_adjust=.5,\n",
    "        fill=True, alpha=1, linewidth=1.5)\n",
    "    g.map(sns.kdeplot, \"Month\", clip_on=False,bw_adjust=.5, color=\"w\", lw=2)\n",
    "\n",
    "    # passing color=None to refline() uses the hue mapping\n",
    "    g.refline(y=0, linewidth=2, linestyle=\"-\", color=None, clip_on=False)\n",
    "\n",
    "\n",
    "    # Define and use a simple function to label the plot in axes coordinates\n",
    "    def label(x, color, label):\n",
    "        ax = plt.gca()\n",
    "        ax.text(0, .2, label, fontweight=\"bold\", color=color,\n",
    "              ha=\"left\", va=\"center\", transform=ax.transAxes)\n",
    "\n",
    "\n",
    "    g.map(label, \"Month\")\n",
    "    g.fig.suptitle('Claim Review 2021')\n",
    "\n",
    "    # Set the subplots to overlap\n",
    "    g.figure.subplots_adjust(hspace=-.25)\n",
    "    # Remove axes details that don't play well with overlap\n",
    "    g.set_titles(\"\")\n",
    "    g.set(yticks=[], ylabel=\"\")\n",
    "    for ax in g.axes.flat:\n",
    "        ax.set_xticks(range(15))\n",
    "        ax.set_xticklabels(['','Jan','Feb','Mar','Apr','May','June','July','Aug','Sep','Oct','Nov','Dec','',''])\n",
    "        #ax.set_xticklabels(['','Jan','Feb','Mar','Apr','','','','','','','','','',''])\n",
    "    g.despine(bottom=True, left=True)"
   ],
   "outputs": [],
   "metadata": {
    "id": "LPmWh73jFo4V"
   }
  },
  {
   "cell_type": "markdown",
   "source": [
    "# Training + Visualisation"
   ],
   "metadata": {
    "id": "BWFqUr_C4VzE"
   }
  },
  {
   "cell_type": "code",
   "execution_count": null,
   "source": [
    "en_BW=pd.read_csv('../data/BW_tweets_all_Topic.csv')\n",
    "docs = list(en_BW.full_text)"
   ],
   "outputs": [],
   "metadata": {
    "id": "l3o3QVQ9yX4f"
   }
  },
  {
   "cell_type": "code",
   "execution_count": null,
   "source": [
    "topic_model = BERTopic(language=\"english\", calculate_probabilities=True, verbose=True)"
   ],
   "outputs": [],
   "metadata": {
    "id": "W3PV_ffHygdW"
   }
  },
  {
   "cell_type": "code",
   "execution_count": null,
   "source": [
    "topics, probs = topic_model.fit_transform(docs)"
   ],
   "outputs": [],
   "metadata": {
    "id": "O0CdSNcxE8gw"
   }
  },
  {
   "cell_type": "code",
   "execution_count": null,
   "source": [
    "topic_model.save(\"../model/BW_BertTopic.model\")"
   ],
   "outputs": [],
   "metadata": {
    "id": "dfPvLOzWajES"
   }
  },
  {
   "cell_type": "code",
   "execution_count": null,
   "source": [
    "topic_model.visualize_barchart()"
   ],
   "outputs": [],
   "metadata": {
    "id": "nkKnIHNc7wZs"
   }
  },
  {
   "cell_type": "code",
   "execution_count": null,
   "source": [
    "topic_model.get_topic(2)"
   ],
   "outputs": [],
   "metadata": {
    "id": "BkR2UADmGPZZ"
   }
  },
  {
   "cell_type": "code",
   "execution_count": null,
   "source": [
    "freq = topic_model.get_topic_info(); freq.head(10)"
   ],
   "outputs": [],
   "metadata": {
    "id": "pbbqehEwE271"
   }
  },
  {
   "cell_type": "code",
   "execution_count": null,
   "source": [
    "topic_model.get_topic(0) "
   ],
   "outputs": [],
   "metadata": {
    "id": "ggHaPwI8HHEV"
   }
  },
  {
   "cell_type": "code",
   "execution_count": null,
   "source": [
    "topic_model.visualize_topics()"
   ],
   "outputs": [],
   "metadata": {
    "id": "gbbueWqDHpqi"
   }
  },
  {
   "cell_type": "code",
   "execution_count": null,
   "source": [
    "topic_model.visualize_distribution(probs[0], min_probability=0.015)"
   ],
   "outputs": [],
   "metadata": {
    "id": "6MhBybBKIJC-"
   }
  },
  {
   "cell_type": "code",
   "execution_count": null,
   "source": [
    "topic_model.visualize_hierarchy(top_n_topics=50)"
   ],
   "outputs": [],
   "metadata": {
    "id": "z5tt3kP8Ipdx"
   }
  },
  {
   "cell_type": "code",
   "execution_count": null,
   "source": [
    "topic_model.visualize_barchart(top_n_topics=10)"
   ],
   "outputs": [],
   "metadata": {
    "id": "IOa9pYBeJL8p"
   }
  },
  {
   "cell_type": "code",
   "execution_count": null,
   "source": [
    "topic_model.visualize_heatmap(n_clusters=20, width=1000, height=1000)"
   ],
   "outputs": [],
   "metadata": {
    "id": "J5HeUxkmJZwG"
   }
  }
 ],
 "metadata": {
  "accelerator": "GPU",
  "colab": {
   "collapsed_sections": [],
   "provenance": []
  },
  "kernelspec": {
   "display_name": "Python 3",
   "language": "python",
   "name": "python3"
  },
  "language_info": {
   "codemirror_mode": {
    "name": "ipython",
    "version": 3
   },
   "file_extension": ".py",
   "mimetype": "text/x-python",
   "name": "python",
   "nbconvert_exporter": "python",
   "pygments_lexer": "ipython3",
   "version": "3.7.4"
  },
  "toc": {
   "base_numbering": 1,
   "nav_menu": {},
   "number_sections": true,
   "sideBar": true,
   "skip_h1_title": false,
   "title_cell": "Table of Contents",
   "title_sidebar": "Contents",
   "toc_cell": false,
   "toc_position": {},
   "toc_section_display": true,
   "toc_window_display": false
  }
 },
 "nbformat": 4,
 "nbformat_minor": 1
}